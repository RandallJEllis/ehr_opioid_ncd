{
 "cells": [
  {
   "cell_type": "code",
   "execution_count": 1,
   "metadata": {},
   "outputs": [],
   "source": [
    "import pandas as pd\n",
    "import os\n",
    "import numpy as np\n",
    "import matplotlib.pyplot as plt\n",
    "from datetime import datetime, timedelta\n",
    "import pickle\n",
    "#import statsmodels.api as sm\n",
    "import seaborn as sns\n",
    "from collections import Counter\n",
    "plt.rcParams[\"font.weight\"] = \"bold\"\n",
    "plt.rcParams[\"axes.labelweight\"] = \"bold\"\n",
    "import scipy.stats as stats\n",
    "from opioidrx_voe.utils import *\n"
   ]
  },
  {
   "cell_type": "code",
   "execution_count": 2,
   "metadata": {},
   "outputs": [
    {
     "name": "stderr",
     "output_type": "stream",
     "text": [
      "/hpc/packages/minerva-centos7/py_packages/3.7/lib/python3.7/site-packages/IPython/core/interactiveshell.py:3417: DtypeWarning: Columns (1) have mixed types.Specify dtype option on import or set low_memory=False.\n",
      "  exec(code_obj, self.user_global_ns, self.user_ns)\n"
     ]
    }
   ],
   "source": [
    "pop = pd.read_csv('../voe_outputs/opioids/controlsLessThan3Opioids/' \\\n",
    "                  'binary_exposure/binary_outcome/controlVarOUD/populations/' \\\n",
    "                  'voe_2014_2017_5yearfollowup_5OpioidsEnrollment_45NCDageExclusion_1.csv')"
   ]
  },
  {
   "cell_type": "code",
   "execution_count": 3,
   "metadata": {},
   "outputs": [
    {
     "data": {
      "text/plain": [
       "(396202, 17)"
      ]
     },
     "execution_count": 3,
     "metadata": {},
     "output_type": "execute_result"
    }
   ],
   "source": [
    "pop.shape"
   ]
  },
  {
   "cell_type": "code",
   "execution_count": 4,
   "metadata": {},
   "outputs": [
    {
     "data": {
      "text/html": [
       "<div>\n",
       "<style scoped>\n",
       "    .dataframe tbody tr th:only-of-type {\n",
       "        vertical-align: middle;\n",
       "    }\n",
       "\n",
       "    .dataframe tbody tr th {\n",
       "        vertical-align: top;\n",
       "    }\n",
       "\n",
       "    .dataframe thead th {\n",
       "        text-align: right;\n",
       "    }\n",
       "</style>\n",
       "<table border=\"1\" class=\"dataframe\">\n",
       "  <thead>\n",
       "    <tr style=\"text-align: right;\">\n",
       "      <th></th>\n",
       "      <th>Unnamed: 0</th>\n",
       "      <th>MRN</th>\n",
       "      <th>AGE</th>\n",
       "      <th>DOB</th>\n",
       "      <th>RACE</th>\n",
       "      <th>SEX</th>\n",
       "      <th>YOB</th>\n",
       "      <th>age</th>\n",
       "      <th>label</th>\n",
       "      <th>ncd</th>\n",
       "      <th>sickle</th>\n",
       "      <th>hiv</th>\n",
       "      <th>aud</th>\n",
       "      <th>tobacco</th>\n",
       "      <th>sud</th>\n",
       "      <th>opioid_count</th>\n",
       "      <th>MAT</th>\n",
       "    </tr>\n",
       "  </thead>\n",
       "  <tbody>\n",
       "    <tr>\n",
       "      <th>0</th>\n",
       "      <td>0</td>\n",
       "      <td>1001419</td>\n",
       "      <td>83.0</td>\n",
       "      <td>1939-09-12</td>\n",
       "      <td>WHITE</td>\n",
       "      <td>Male</td>\n",
       "      <td>1939</td>\n",
       "      <td>78</td>\n",
       "      <td>0</td>\n",
       "      <td>0</td>\n",
       "      <td>0</td>\n",
       "      <td>0</td>\n",
       "      <td>0</td>\n",
       "      <td>0</td>\n",
       "      <td>0</td>\n",
       "      <td>0.0</td>\n",
       "      <td>0</td>\n",
       "    </tr>\n",
       "    <tr>\n",
       "      <th>1</th>\n",
       "      <td>1</td>\n",
       "      <td>1001868</td>\n",
       "      <td>74.0</td>\n",
       "      <td>1948-10-22</td>\n",
       "      <td>WHITE</td>\n",
       "      <td>Male</td>\n",
       "      <td>1948</td>\n",
       "      <td>69</td>\n",
       "      <td>0</td>\n",
       "      <td>0</td>\n",
       "      <td>0</td>\n",
       "      <td>0</td>\n",
       "      <td>0</td>\n",
       "      <td>0</td>\n",
       "      <td>0</td>\n",
       "      <td>0.0</td>\n",
       "      <td>0</td>\n",
       "    </tr>\n",
       "    <tr>\n",
       "      <th>2</th>\n",
       "      <td>2</td>\n",
       "      <td>1003267</td>\n",
       "      <td>80.0</td>\n",
       "      <td>1942-04-20</td>\n",
       "      <td>WHITE</td>\n",
       "      <td>Female</td>\n",
       "      <td>1942</td>\n",
       "      <td>75</td>\n",
       "      <td>0</td>\n",
       "      <td>0</td>\n",
       "      <td>0</td>\n",
       "      <td>0</td>\n",
       "      <td>0</td>\n",
       "      <td>0</td>\n",
       "      <td>0</td>\n",
       "      <td>0.0</td>\n",
       "      <td>0</td>\n",
       "    </tr>\n",
       "    <tr>\n",
       "      <th>3</th>\n",
       "      <td>3</td>\n",
       "      <td>1003565</td>\n",
       "      <td>68.0</td>\n",
       "      <td>1954-05-14</td>\n",
       "      <td>AFRICAN-AMERICAN</td>\n",
       "      <td>Female</td>\n",
       "      <td>1954</td>\n",
       "      <td>63</td>\n",
       "      <td>0</td>\n",
       "      <td>0</td>\n",
       "      <td>0</td>\n",
       "      <td>0</td>\n",
       "      <td>0</td>\n",
       "      <td>0</td>\n",
       "      <td>0</td>\n",
       "      <td>0.0</td>\n",
       "      <td>0</td>\n",
       "    </tr>\n",
       "    <tr>\n",
       "      <th>4</th>\n",
       "      <td>4</td>\n",
       "      <td>1004882</td>\n",
       "      <td>76.0</td>\n",
       "      <td>1946-01-23</td>\n",
       "      <td>WHITE</td>\n",
       "      <td>Male</td>\n",
       "      <td>1946</td>\n",
       "      <td>71</td>\n",
       "      <td>0</td>\n",
       "      <td>1</td>\n",
       "      <td>0</td>\n",
       "      <td>0</td>\n",
       "      <td>0</td>\n",
       "      <td>0</td>\n",
       "      <td>0</td>\n",
       "      <td>0.0</td>\n",
       "      <td>0</td>\n",
       "    </tr>\n",
       "  </tbody>\n",
       "</table>\n",
       "</div>"
      ],
      "text/plain": [
       "   Unnamed: 0      MRN   AGE         DOB              RACE     SEX   YOB  age  \\\n",
       "0           0  1001419  83.0  1939-09-12             WHITE    Male  1939   78   \n",
       "1           1  1001868  74.0  1948-10-22             WHITE    Male  1948   69   \n",
       "2           2  1003267  80.0  1942-04-20             WHITE  Female  1942   75   \n",
       "3           3  1003565  68.0  1954-05-14  AFRICAN-AMERICAN  Female  1954   63   \n",
       "4           4  1004882  76.0  1946-01-23             WHITE    Male  1946   71   \n",
       "\n",
       "   label  ncd  sickle  hiv  aud  tobacco  sud  opioid_count  MAT  \n",
       "0      0    0       0    0    0        0    0           0.0    0  \n",
       "1      0    0       0    0    0        0    0           0.0    0  \n",
       "2      0    0       0    0    0        0    0           0.0    0  \n",
       "3      0    0       0    0    0        0    0           0.0    0  \n",
       "4      0    1       0    0    0        0    0           0.0    0  "
      ]
     },
     "execution_count": 4,
     "metadata": {},
     "output_type": "execute_result"
    }
   ],
   "source": [
    "pop.head()"
   ]
  },
  {
   "cell_type": "code",
   "execution_count": 3,
   "metadata": {},
   "outputs": [],
   "source": [
    "oprx_pop = pop[pop.label==1]\n",
    "\n",
    "opioid_mrns = oprx_pop.MRN\n",
    "control_mrns = pop[pop.label==0].MRN"
   ]
  },
  {
   "cell_type": "code",
   "execution_count": 4,
   "metadata": {},
   "outputs": [
    {
     "data": {
      "image/png": "[encoded data removed]",
      "text/plain": [
       "<Figure size 432x288 with 1 Axes>"
      ]
     },
     "metadata": {
      "needs_background": "light"
     },
     "output_type": "display_data"
    }
   ],
   "source": [
    "#histogram of opioid prescriptions in OPRx cohort\n",
    "c,b,_ = plt.hist(oprx_pop.opioid_count, log=True,\n",
    "                 bins=np.arange(0,680,20), color='blue', edgecolor='black', linewidth=0.3)\n",
    "plt.xlabel('Number of opioid prescriptions')\n",
    "plt.ylabel('Number of patients')\n",
    "plt.savefig('../figures/histogram_OPRx_cohortEnroll5OPRx_enroll2014-2016_NCDAgeExclusion_45.png', dpi=300)"
   ]
  },
  {
   "cell_type": "code",
   "execution_count": 7,
   "metadata": {},
   "outputs": [
    {
     "data": {
      "text/plain": [
       "(0.09651307596513076, 0.20029057700290576, 0.4940846824408468)"
      ]
     },
     "execution_count": 7,
     "metadata": {},
     "output_type": "execute_result"
    }
   ],
   "source": [
    "c[2]/oprx_pop.shape[0], c[1]/oprx_pop.shape[0], c[0]/oprx_pop.shape[0]"
   ]
  },
  {
   "cell_type": "code",
   "execution_count": 5,
   "metadata": {},
   "outputs": [],
   "source": [
    "def fisher(cases_data, controls_data, factor):\n",
    "    import scipy.stats as stats\n",
    "    import sys\n",
    "    \n",
    "    ORs = []\n",
    "    pvalues = []\n",
    "    cases_with_list = []\n",
    "    controls_with_list = []\n",
    "    cases_without_list = []\n",
    "    controls_without_list = []\n",
    "    \n",
    "    #overlapping factors (e.g., dx, rx), Ns of groups\n",
    "    allfactors = list(set(cases_data[factor]).union(set(controls_data[factor])))\n",
    "    num_cases = len(set(cases_data.MRN))\n",
    "    num_controls = len(set(controls_data.MRN))\n",
    "    \n",
    "    #counts of each factor\n",
    "    cases_rx_counts = cases_data.groupby(factor).groups\n",
    "    controls_rx_counts = controls_data.groupby(factor).groups\n",
    "    \n",
    "    n=0\n",
    "    for i in allfactors:\n",
    "        sys.stdout.write('%i out of %i.\\r' % (n+1, len(allfactors)))\n",
    "        sys.stdout.flush()\n",
    "        \n",
    "        #number of patients with factor\n",
    "        if i in list(cases_rx_counts.keys()):\n",
    "            cases_with = len(set(cases_data.iloc[cases_rx_counts[i]].MRN))#cases_data.count(i)\n",
    "        else: cases_with = 0\n",
    "        \n",
    "        if i in list(controls_rx_counts.keys()):\n",
    "            controls_with = len(set(controls_data.iloc[controls_rx_counts[i]].MRN))#controls_data.count(i)\n",
    "        else: controls_with = 0\n",
    "        \n",
    "        cases_without = num_cases - cases_with\n",
    "        controls_without = num_controls - controls_with\n",
    "        \n",
    "        cases_with_list.append(cases_with)\n",
    "        controls_with_list.append(controls_with)\n",
    "        cases_without_list.append(cases_without)\n",
    "        controls_without_list.append(controls_without)\n",
    "        \n",
    "        #if any zeros in 2x2 table, add 1 to all cells\n",
    "        if 0 in [cases_with, cases_without, controls_with, controls_without]:\n",
    "            oddsratio, pvalue = stats.fisher_exact([[cases_with+1, cases_without+1],\n",
    "                                                    [controls_with+1, controls_without+1]])\n",
    "        else:\n",
    "            oddsratio, pvalue = stats.fisher_exact([[cases_with, cases_without], [controls_with, controls_without]])\n",
    "        \n",
    "        ORs.append(oddsratio)\n",
    "        #bonferroni correction\n",
    "        pvalues.append(pvalue*len(allfactors))\n",
    "        \n",
    "        n+=1\n",
    "    \n",
    "    fisher_data = pd.DataFrame()\n",
    "    fisher_data[factor] = allfactors\n",
    "    fisher_data['Cases_with'] = cases_with_list\n",
    "    fisher_data['Cases_w/o'] = cases_without_list\n",
    "    fisher_data['Cases_percent'] = fisher_data['Cases_with']/num_cases\n",
    "    fisher_data['Controls_with'] = controls_with_list\n",
    "    fisher_data['Controls_w/o'] = controls_without_list\n",
    "    fisher_data['Controls_percent'] = fisher_data['Controls_with']/num_controls\n",
    "    fisher_data['opi-con_percent'] = fisher_data['Cases_percent'] - fisher_data['Controls_percent']\n",
    "    fisher_data['Odds_ratio'] = ORs\n",
    "    fisher_data['p-value (Bonferroni-corrected)'] = pvalues\n",
    "    \n",
    "    fisher_data = fisher_data.sort_values(by=['Odds_ratio', 'p-value (Bonferroni-corrected)'],\n",
    "                                         ascending=[False,True]).reset_index(drop=True)\n",
    "    \n",
    "    return fisher_data"
   ]
  },
  {
   "cell_type": "markdown",
   "metadata": {},
   "source": [
    "## Meds"
   ]
  },
  {
   "cell_type": "code",
   "execution_count": 6,
   "metadata": {},
   "outputs": [],
   "source": [
    "med = pd.read_parquet('../tidy_data/Medications.parquet')\n"
   ]
  },
  {
   "cell_type": "code",
   "execution_count": 7,
   "metadata": {},
   "outputs": [],
   "source": [
    "def get_drugs(df):\n",
    "    drugs = []\n",
    "\n",
    "    for entry in df['MEDICATION_GENERIC_NAME']:\n",
    "        idx = entry.find(' ')\n",
    "        drugs.append(entry[:idx])\n",
    "        \n",
    "    df['drug'] = drugs\n",
    "    return df"
   ]
  },
  {
   "cell_type": "code",
   "execution_count": 8,
   "metadata": {},
   "outputs": [
    {
     "name": "stderr",
     "output_type": "stream",
     "text": [
      "/hpc/packages/minerva-centos7/py_packages/3.7/lib/python3.7/site-packages/pandas/core/indexing.py:1773: SettingWithCopyWarning: \n",
      "A value is trying to be set on a copy of a slice from a DataFrame.\n",
      "Try using .loc[row_indexer,col_indexer] = value instead\n",
      "\n",
      "See the caveats in the documentation: https://pandas.pydata.org/pandas-docs/stable/user_guide/indexing.html#returning-a-view-versus-a-copy\n",
      "  self._setitem_single_column(ilocs[0], value, pi)\n",
      "/hpc/packages/minerva-centos7/py_packages/3.7/lib/python3.7/site-packages/pandas/core/indexing.py:1773: SettingWithCopyWarning: \n",
      "A value is trying to be set on a copy of a slice from a DataFrame.\n",
      "Try using .loc[row_indexer,col_indexer] = value instead\n",
      "\n",
      "See the caveats in the documentation: https://pandas.pydata.org/pandas-docs/stable/user_guide/indexing.html#returning-a-view-versus-a-copy\n",
      "  self._setitem_single_column(ilocs[0], value, pi)\n"
     ]
    }
   ],
   "source": [
    "#Compare medications of controls vs. OPRx, for all meds in patients' entire record\n",
    "\n",
    "opi_cohort_allmeds = med[med.MRN.isin(opioid_mrns)]\n",
    "opi_cohort_allmeds.loc[:,'MEDICATION_START_DATE'] = pd.to_datetime(opi_cohort_allmeds.loc[:,'MEDICATION_START_DATE'])\n",
    "opi_cohort_allmeds = opi_cohort_allmeds[#(opi_cohort_allmeds.date>=begin) & \n",
    "                                        (opi_cohort_allmeds.MEDICATION_START_DATE < '01-01-2017')]\n",
    "opi_cohort_allmeds.reset_index(drop=True, inplace=True)\n",
    "opi_cohort_allmeds = get_drugs(opi_cohort_allmeds)\n",
    "\n",
    "con_cohort_allmeds = med[med.MRN.isin(control_mrns)]\n",
    "con_cohort_allmeds.loc[:,'MEDICATION_START_DATE'] = pd.to_datetime(con_cohort_allmeds['MEDICATION_START_DATE'].copy())\n",
    "con_cohort_allmeds = con_cohort_allmeds[#(con_cohort_allmeds.date>=begin) & \n",
    "                                        (con_cohort_allmeds.MEDICATION_START_DATE < '01-01-2017')]\n",
    "con_cohort_allmeds.reset_index(drop=True, inplace=True)\n",
    "con_cohort_allmeds = get_drugs(con_cohort_allmeds)"
   ]
  },
  {
   "cell_type": "code",
   "execution_count": 9,
   "metadata": {
    "scrolled": true
   },
   "outputs": [
    {
     "name": "stdout",
     "output_type": "stream",
     "text": [
      "153 out of 153.\r"
     ]
    }
   ],
   "source": [
    "rx_compare = fisher(opi_cohort_allmeds, con_cohort_allmeds, 'drug')"
   ]
  },
  {
   "cell_type": "code",
   "execution_count": 10,
   "metadata": {},
   "outputs": [],
   "source": [
    "rx_compare.to_csv('../tidy_data/fisher_prescriptions_compare_cohortEnroll5OPRx_enroll2014-2016_NCDAgeExclusion_45.csv')\n",
    "# rx_compare = pd.read_csv('../tidy_data/fisher_prescriptions_compare_cohortEnroll5OPRx_enroll2014-2016_NCDAgeExclusion_45.csv')"
   ]
  },
  {
   "cell_type": "code",
   "execution_count": 12,
   "metadata": {},
   "outputs": [
    {
     "data": {
      "text/html": [
       "<div>\n",
       "<style scoped>\n",
       "    .dataframe tbody tr th:only-of-type {\n",
       "        vertical-align: middle;\n",
       "    }\n",
       "\n",
       "    .dataframe tbody tr th {\n",
       "        vertical-align: top;\n",
       "    }\n",
       "\n",
       "    .dataframe thead th {\n",
       "        text-align: right;\n",
       "    }\n",
       "</style>\n",
       "<table border=\"1\" class=\"dataframe\">\n",
       "  <thead>\n",
       "    <tr style=\"text-align: right;\">\n",
       "      <th></th>\n",
       "      <th>drug</th>\n",
       "      <th>Cases_with</th>\n",
       "      <th>Cases_w/o</th>\n",
       "      <th>Cases_percent</th>\n",
       "      <th>Controls_with</th>\n",
       "      <th>Controls_w/o</th>\n",
       "      <th>Controls_percent</th>\n",
       "      <th>opi-con_percent</th>\n",
       "      <th>Odds_ratio</th>\n",
       "      <th>p-value (Bonferroni-corrected)</th>\n",
       "      <th>PHARMACEUTICAL_CLASS</th>\n",
       "    </tr>\n",
       "  </thead>\n",
       "  <tbody>\n",
       "    <tr>\n",
       "      <th>0</th>\n",
       "      <td>OXYMORPHONE</td>\n",
       "      <td>223</td>\n",
       "      <td>9413</td>\n",
       "      <td>0.023142</td>\n",
       "      <td>9</td>\n",
       "      <td>20581</td>\n",
       "      <td>0.000437</td>\n",
       "      <td>0.022705</td>\n",
       "      <td>54.175230</td>\n",
       "      <td>7.918384e-96</td>\n",
       "      <td>OPIOID ANALGESICS</td>\n",
       "    </tr>\n",
       "    <tr>\n",
       "      <th>1</th>\n",
       "      <td>PROPOXYPHENE</td>\n",
       "      <td>37</td>\n",
       "      <td>9599</td>\n",
       "      <td>0.003840</td>\n",
       "      <td>2</td>\n",
       "      <td>20588</td>\n",
       "      <td>0.000097</td>\n",
       "      <td>0.003743</td>\n",
       "      <td>39.678925</td>\n",
       "      <td>2.199810e-14</td>\n",
       "      <td>OPIOID ANALGESICS</td>\n",
       "    </tr>\n",
       "    <tr>\n",
       "      <th>2</th>\n",
       "      <td>HYDROCODONE-GUAIFENESIN</td>\n",
       "      <td>11</td>\n",
       "      <td>9625</td>\n",
       "      <td>0.001142</td>\n",
       "      <td>0</td>\n",
       "      <td>20590</td>\n",
       "      <td>0.000000</td>\n",
       "      <td>0.001142</td>\n",
       "      <td>25.669229</td>\n",
       "      <td>1.541588e-03</td>\n",
       "      <td>OPIOID ANTITUSSIVE-EXPECTORANT COMBINATION</td>\n",
       "    </tr>\n",
       "    <tr>\n",
       "      <th>3</th>\n",
       "      <td>TAPENTADOL</td>\n",
       "      <td>226</td>\n",
       "      <td>9410</td>\n",
       "      <td>0.023454</td>\n",
       "      <td>23</td>\n",
       "      <td>20567</td>\n",
       "      <td>0.001117</td>\n",
       "      <td>0.022337</td>\n",
       "      <td>21.476422</td>\n",
       "      <td>4.951059e-83</td>\n",
       "      <td>OPIOID ANALGESICS</td>\n",
       "    </tr>\n",
       "    <tr>\n",
       "      <th>4</th>\n",
       "      <td>BUPRENORPHINE-NALOXONE</td>\n",
       "      <td>10</td>\n",
       "      <td>9626</td>\n",
       "      <td>0.001038</td>\n",
       "      <td>1</td>\n",
       "      <td>20589</td>\n",
       "      <td>0.000049</td>\n",
       "      <td>0.000989</td>\n",
       "      <td>21.388947</td>\n",
       "      <td>1.292287e-02</td>\n",
       "      <td>OPIOID WITHDRAWAL THERAPY AGENTS, OPIOID-TYPE</td>\n",
       "    </tr>\n",
       "  </tbody>\n",
       "</table>\n",
       "</div>"
      ],
      "text/plain": [
       "                      drug  Cases_with  Cases_w/o  Cases_percent  \\\n",
       "0              OXYMORPHONE         223       9413       0.023142   \n",
       "1             PROPOXYPHENE          37       9599       0.003840   \n",
       "2  HYDROCODONE-GUAIFENESIN          11       9625       0.001142   \n",
       "3               TAPENTADOL         226       9410       0.023454   \n",
       "4   BUPRENORPHINE-NALOXONE          10       9626       0.001038   \n",
       "\n",
       "   Controls_with  Controls_w/o  Controls_percent  opi-con_percent  Odds_ratio  \\\n",
       "0              9         20581          0.000437         0.022705   54.175230   \n",
       "1              2         20588          0.000097         0.003743   39.678925   \n",
       "2              0         20590          0.000000         0.001142   25.669229   \n",
       "3             23         20567          0.001117         0.022337   21.476422   \n",
       "4              1         20589          0.000049         0.000989   21.388947   \n",
       "\n",
       "   p-value (Bonferroni-corrected)  \\\n",
       "0                    7.918384e-96   \n",
       "1                    2.199810e-14   \n",
       "2                    1.541588e-03   \n",
       "3                    4.951059e-83   \n",
       "4                    1.292287e-02   \n",
       "\n",
       "                            PHARMACEUTICAL_CLASS  \n",
       "0                              OPIOID ANALGESICS  \n",
       "1                              OPIOID ANALGESICS  \n",
       "2     OPIOID ANTITUSSIVE-EXPECTORANT COMBINATION  \n",
       "3                              OPIOID ANALGESICS  \n",
       "4  OPIOID WITHDRAWAL THERAPY AGENTS, OPIOID-TYPE  "
      ]
     },
     "execution_count": 12,
     "metadata": {},
     "output_type": "execute_result"
    }
   ],
   "source": [
    "rx_compare.head()"
   ]
  },
  {
   "cell_type": "code",
   "execution_count": 11,
   "metadata": {},
   "outputs": [
    {
     "name": "stdout",
     "output_type": "stream",
     "text": [
      "(153, 10)\n",
      "(165, 11)\n",
      "(115, 11)\n"
     ]
    }
   ],
   "source": [
    "print(rx_compare.shape)\n",
    "merge_med = pd.concat([opi_cohort_allmeds, con_cohort_allmeds]).loc[:,['drug','PHARMACEUTICAL_CLASS']].drop_duplicates()\n",
    "\n",
    "# 12 extra rows after merge (see next cell)\n",
    "rx_compare = rx_compare.merge(merge_med, on=\"drug\")\n",
    "print(rx_compare.shape)\n",
    "\n",
    "# some drugs are derived from different MEDICATION_GENERIC_NAME with different PHARMACEUTICAL_CLASS\n",
    "# solution: drop_duplicates on all numerical columns\n",
    "rx_compare.drop_duplicates(subset=rx_compare.columns[1:-1], inplace=True)\n",
    "print(rx_compare.shape)"
   ]
  },
  {
   "cell_type": "code",
   "execution_count": 13,
   "metadata": {},
   "outputs": [
    {
     "data": {
      "image/png": "[encoded data removed]",
      "text/plain": [
       "<Figure size 432x432 with 1 Axes>"
      ]
     },
     "metadata": {
      "needs_background": "light"
     },
     "output_type": "display_data"
    }
   ],
   "source": [
    "fig, ax = plt.subplots(figsize=(6,6))\n",
    "\n",
    "variable = 'Odds_ratio'\n",
    "rx_compare_sig = rx_compare[rx_compare['p-value (Bonferroni-corrected)']<0.05].sort_values(variable, ascending=False)\n",
    "rx_compare_sig = rx_compare_sig[~rx_compare_sig.PHARMACEUTICAL_CLASS.str.contains('OPIOID')]\n",
    "rx_compare_sig = rx_compare_sig[(rx_compare_sig.Cases_percent>0.05) | \n",
    "                               ((rx_compare_sig.Controls_percent>0.05))]\n",
    "\n",
    "#if there are any drugs overrepresented in the controls, show the top and bottom 10\n",
    "if min(rx_compare_sig[variable])<1:\n",
    "    data = pd.concat([rx_compare_sig[:10], rx_compare_sig[-10:]])\n",
    "#if not, just show the top 20\n",
    "else:\n",
    "    data = rx_compare_sig[:20]\n",
    "\n",
    "# Hide the right and top spines\n",
    "ax.spines.right.set_visible(False)\n",
    "ax.spines.top.set_visible(False)\n",
    "\n",
    "ax.barh(np.arange(data.shape[0]), data[variable],  align='center', color='blue')\n",
    "ax.set_yticks(np.arange(data.shape[0]), labels=data.drug.str.title())\n",
    "# ax.set_yticks(())\n",
    "\n",
    "ax.invert_yaxis()  # labels read top-to-bottom\n",
    "ax.set_xlabel('Odds ratio')\n",
    "plt.tight_layout()\n",
    "plt.savefig('../figures/rx_fisherTest_oddsratio_bargraph_OPRx_cohortEnroll5OPRx_enroll2014-2016_NCDAgeExclusion_45.png', dpi=300)"
   ]
  },
  {
   "cell_type": "markdown",
   "metadata": {},
   "source": [
    "## Diagnoses"
   ]
  },
  {
   "cell_type": "code",
   "execution_count": 14,
   "metadata": {},
   "outputs": [],
   "source": [
    "dx = pd.read_parquet('../tidy_data/Diagnosis.parquet')\n"
   ]
  },
  {
   "cell_type": "code",
   "execution_count": 15,
   "metadata": {},
   "outputs": [
    {
     "data": {
      "text/html": [
       "<div>\n",
       "<style scoped>\n",
       "    .dataframe tbody tr th:only-of-type {\n",
       "        vertical-align: middle;\n",
       "    }\n",
       "\n",
       "    .dataframe tbody tr th {\n",
       "        vertical-align: top;\n",
       "    }\n",
       "\n",
       "    .dataframe thead th {\n",
       "        text-align: right;\n",
       "    }\n",
       "</style>\n",
       "<table border=\"1\" class=\"dataframe\">\n",
       "  <thead>\n",
       "    <tr style=\"text-align: right;\">\n",
       "      <th></th>\n",
       "      <th>MRN</th>\n",
       "      <th>ENC_EPIC_CSN_ID</th>\n",
       "      <th>AGE_AT_ENCOUNTER</th>\n",
       "      <th>ENCOUNTER_DATE</th>\n",
       "      <th>DIAGNOSIS_DATE</th>\n",
       "      <th>DIAGNOSIS_TYPE</th>\n",
       "      <th>DIAGNOSIS</th>\n",
       "      <th>CODE</th>\n",
       "      <th>CODE_TYPE</th>\n",
       "    </tr>\n",
       "  </thead>\n",
       "  <tbody>\n",
       "    <tr>\n",
       "      <th>0</th>\n",
       "      <td>3062956</td>\n",
       "      <td>120775621</td>\n",
       "      <td>91</td>\n",
       "      <td>2016-04-14 09:30:00</td>\n",
       "      <td>2016-04-14</td>\n",
       "      <td>Hospital Problem</td>\n",
       "      <td>Vascular dementia, unspecified severity, witho...</td>\n",
       "      <td>F01.50</td>\n",
       "      <td>ICD-10-CM</td>\n",
       "    </tr>\n",
       "    <tr>\n",
       "      <th>2</th>\n",
       "      <td>E568340</td>\n",
       "      <td>120036715</td>\n",
       "      <td>53</td>\n",
       "      <td>2016-03-25 00:00:00</td>\n",
       "      <td>2016-03-25</td>\n",
       "      <td>Encounter Diagnosis</td>\n",
       "      <td>Nicotine dependence, unspecified, uncomplicated</td>\n",
       "      <td>F17.200</td>\n",
       "      <td>ICD-10-CM</td>\n",
       "    </tr>\n",
       "    <tr>\n",
       "      <th>3</th>\n",
       "      <td>1815591</td>\n",
       "      <td>100048049741</td>\n",
       "      <td>53</td>\n",
       "      <td>2019-03-26 00:00:00</td>\n",
       "      <td>2019-03-26</td>\n",
       "      <td>Encounter Diagnosis</td>\n",
       "      <td>Depression, unspecified</td>\n",
       "      <td>F32.A</td>\n",
       "      <td>ICD-10-CM</td>\n",
       "    </tr>\n",
       "    <tr>\n",
       "      <th>4</th>\n",
       "      <td>3219657</td>\n",
       "      <td>100047681176</td>\n",
       "      <td>70</td>\n",
       "      <td>2019-04-18 00:00:00</td>\n",
       "      <td>2019-04-18</td>\n",
       "      <td>Encounter Diagnosis</td>\n",
       "      <td>Human immunodeficiency virus (HIV) disease</td>\n",
       "      <td>B20</td>\n",
       "      <td>ICD-10-CM</td>\n",
       "    </tr>\n",
       "    <tr>\n",
       "      <th>5</th>\n",
       "      <td>1188409</td>\n",
       "      <td>100049583743</td>\n",
       "      <td>85</td>\n",
       "      <td>2019-05-09 00:00:00</td>\n",
       "      <td>2019-05-09</td>\n",
       "      <td>Encounter Diagnosis</td>\n",
       "      <td>Major depressive disorder, single episode, mod...</td>\n",
       "      <td>F32.1</td>\n",
       "      <td>ICD-10-CM</td>\n",
       "    </tr>\n",
       "  </tbody>\n",
       "</table>\n",
       "</div>"
      ],
      "text/plain": [
       "       MRN  ENC_EPIC_CSN_ID  AGE_AT_ENCOUNTER      ENCOUNTER_DATE  \\\n",
       "0  3062956        120775621                91 2016-04-14 09:30:00   \n",
       "2  E568340        120036715                53 2016-03-25 00:00:00   \n",
       "3  1815591     100048049741                53 2019-03-26 00:00:00   \n",
       "4  3219657     100047681176                70 2019-04-18 00:00:00   \n",
       "5  1188409     100049583743                85 2019-05-09 00:00:00   \n",
       "\n",
       "  DIAGNOSIS_DATE       DIAGNOSIS_TYPE  \\\n",
       "0     2016-04-14     Hospital Problem   \n",
       "2     2016-03-25  Encounter Diagnosis   \n",
       "3     2019-03-26  Encounter Diagnosis   \n",
       "4     2019-04-18  Encounter Diagnosis   \n",
       "5     2019-05-09  Encounter Diagnosis   \n",
       "\n",
       "                                           DIAGNOSIS     CODE  CODE_TYPE  \n",
       "0  Vascular dementia, unspecified severity, witho...   F01.50  ICD-10-CM  \n",
       "2    Nicotine dependence, unspecified, uncomplicated  F17.200  ICD-10-CM  \n",
       "3                            Depression, unspecified    F32.A  ICD-10-CM  \n",
       "4         Human immunodeficiency virus (HIV) disease      B20  ICD-10-CM  \n",
       "5  Major depressive disorder, single episode, mod...    F32.1  ICD-10-CM  "
      ]
     },
     "execution_count": 15,
     "metadata": {},
     "output_type": "execute_result"
    }
   ],
   "source": [
    "dx.head()"
   ]
  },
  {
   "cell_type": "code",
   "execution_count": 16,
   "metadata": {},
   "outputs": [
    {
     "name": "stderr",
     "output_type": "stream",
     "text": [
      "/hpc/packages/minerva-centos7/py_packages/3.7/lib/python3.7/site-packages/ipykernel_launcher.py:2: SettingWithCopyWarning: \n",
      "A value is trying to be set on a copy of a slice from a DataFrame.\n",
      "Try using .loc[row_indexer,col_indexer] = value instead\n",
      "\n",
      "See the caveats in the documentation: https://pandas.pydata.org/pandas-docs/stable/user_guide/indexing.html#returning-a-view-versus-a-copy\n",
      "  \n",
      "/hpc/packages/minerva-centos7/py_packages/3.7/lib/python3.7/site-packages/ipykernel_launcher.py:9: SettingWithCopyWarning: \n",
      "A value is trying to be set on a copy of a slice from a DataFrame.\n",
      "Try using .loc[row_indexer,col_indexer] = value instead\n",
      "\n",
      "See the caveats in the documentation: https://pandas.pydata.org/pandas-docs/stable/user_guide/indexing.html#returning-a-view-versus-a-copy\n",
      "  if __name__ == '__main__':\n"
     ]
    }
   ],
   "source": [
    "opi_cohort_dx = dx[dx.MRN.isin(opioid_mrns)]\n",
    "opi_cohort_dx['DIAGNOSIS_DATE'] = pd.to_datetime(opi_cohort_dx['DIAGNOSIS_DATE'])\n",
    "opi_cohort_dx = opi_cohort_dx[#(opi_cohort_icd9.date>=begin) & \n",
    "                                    (opi_cohort_dx.DIAGNOSIS_DATE<'01-01-2017')]\n",
    "opi_cohort_dx.reset_index(drop=True, inplace=True)\n",
    "\n",
    "\n",
    "con_cohort_dx = dx[dx.MRN.isin(control_mrns)]\n",
    "con_cohort_dx['DIAGNOSIS_DATE'] = pd.to_datetime(con_cohort_dx['DIAGNOSIS_DATE'])\n",
    "con_cohort_dx = con_cohort_dx[#(con_cohort_icd9.date>=begin) & \n",
    "                                    (con_cohort_dx.DIAGNOSIS_DATE<'01-01-2017')]\n",
    "con_cohort_dx.reset_index(drop=True, inplace=True)"
   ]
  },
  {
   "cell_type": "code",
   "execution_count": 17,
   "metadata": {},
   "outputs": [
    {
     "name": "stdout",
     "output_type": "stream",
     "text": [
      "508 out of 508.\r"
     ]
    }
   ],
   "source": [
    "dx_compare = fisher(opi_cohort_dx, con_cohort_dx, 'DIAGNOSIS')"
   ]
  },
  {
   "cell_type": "code",
   "execution_count": 18,
   "metadata": {},
   "outputs": [],
   "source": [
    "dx_compare.to_csv('../tidy_data/fisher_diagnoses_compare_cohortEnroll5OPRx_enroll2014-2016_NCDAgeExclusion_45.csv')\n",
    "# dx_compare = pd.read_csv('../tidy_data/fisher_diagnoses_compare_cohortEnroll5OPRx_enroll2014-2016_NCDAgeExclusion_45.csv')"
   ]
  },
  {
   "cell_type": "code",
   "execution_count": 20,
   "metadata": {},
   "outputs": [
    {
     "data": {
      "image/png": "[encoded data removed]",
      "text/plain": [
       "<Figure size 720x720 with 1 Axes>"
      ]
     },
     "metadata": {
      "needs_background": "light"
     },
     "output_type": "display_data"
    }
   ],
   "source": [
    "fig, ax = plt.subplots(figsize=(10,10))\n",
    "\n",
    "variable = 'Odds_ratio'\n",
    "dx_compare_sig = dx_compare[dx_compare['p-value (Bonferroni-corrected)']<0.05].sort_values(variable, ascending=False)\n",
    "dx_compare_sig = dx_compare_sig[~dx_compare_sig.DIAGNOSIS.str.contains('|'.join(['Opioid','opioid']))]\n",
    "dx_compare_sig = dx_compare_sig[(dx_compare_sig.Cases_percent>0.05) | \n",
    "                               ((dx_compare_sig.Controls_percent>0.05))]\n",
    "\n",
    "#if there are any drugs overrepresented in the controls, show the top and bottom 10\n",
    "if min(rx_compare_sig[variable])<1:\n",
    "    data = pd.concat([dx_compare_sig[:10], dx_compare_sig[-10:]])\n",
    "#if not, just show the top 20\n",
    "else:\n",
    "    data = dx_compare_sig[:20]\n",
    "    \n",
    "    \n",
    "# Hide the right and top spines\n",
    "ax.spines.right.set_visible(False)\n",
    "ax.spines.top.set_visible(False)\n",
    "\n",
    "ax.barh(np.arange(data.shape[0]), data[variable],  align='center', color='blue')\n",
    "\n",
    "# yticks = data.LABEL.tolist()\n",
    "# yticks[4] = 'Alcohol dependence, continuous'\n",
    "# yticks[5] = 'Alcohol dependence, unspecified'\n",
    "# yticks[6] = 'Drug abuse, unspecified'\n",
    "# yticks[10] = 'Open wound of finger(s), no complications'\n",
    "# yticks[11] = 'Abnormal results of cardiovascular function study'\n",
    "# yticks[12] = 'Accidents from cutting/piercing instruments'\n",
    "# yticks[14] = 'Benign hypertensive heart disease w/o heart failure'\n",
    "# yticks[16] = 'Routine general medical examination'\n",
    "# yticks[17] = 'Benign neoplasm of connective tissue of upper limb'\n",
    "# yticks[19] = 'Malignant hypertensive heart disease w/o heart failure'\n",
    "\n",
    "ax.set_yticks(np.arange(data.shape[0]), labels=data.DIAGNOSIS)#yticks)\n",
    "# ax.set_yticks(())\n",
    "\n",
    "ax.invert_yaxis()  # labels read top-to-bottom\n",
    "ax.set_xlabel('Odds ratio')\n",
    "plt.tight_layout()\n",
    "plt.savefig('../figures/dx_fisherTest_oddsratio_OPRx_cohortEnroll5OPRx_enroll2014-2016_NCDAgeExclusion_45.png', dpi=300)"
   ]
  }
 ],
 "metadata": {
  "kernelspec": {
   "display_name": "Python 3 (ipykernel)",
   "language": "python",
   "name": "python3"
  },
  "language_info": {
   "codemirror_mode": {
    "name": "ipython",
    "version": 3
   },
   "file_extension": ".py",
   "mimetype": "text/x-python",
   "name": "python",
   "nbconvert_exporter": "python",
   "pygments_lexer": "ipython3",
   "version": "3.7.3"
  }
 },
 "nbformat": 4,
 "nbformat_minor": 2
}
