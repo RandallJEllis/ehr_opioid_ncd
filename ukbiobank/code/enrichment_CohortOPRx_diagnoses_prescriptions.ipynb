{
 "cells": [
  {
   "cell_type": "code",
   "execution_count": 3,
   "metadata": {},
   "outputs": [],
   "source": [
    "import pandas as pd\n",
    "import os\n",
    "os.chdir('../../ukbiobank/code/')\n",
    "import numpy as np\n",
    "import matplotlib.pyplot as plt\n",
    "from datetime import datetime, timedelta\n",
    "import pickle\n",
    "#import statsmodels.api as sm\n",
    "import seaborn as sns\n",
    "from collections import Counter\n",
    "plt.rcParams[\"font.weight\"] = \"bold\"\n",
    "plt.rcParams[\"axes.labelweight\"] = \"bold\"\n",
    "import scipy.stats as stats\n",
    "from opioidrx_voe.utils import *\n"
   ]
  },
  {
   "cell_type": "code",
   "execution_count": 4,
   "metadata": {},
   "outputs": [
    {
     "data": {
      "text/plain": [
       "'/sc/arion/projects/MetaDope/Randy/ehr/ukbiobank/code'"
      ]
     },
     "execution_count": 4,
     "metadata": {},
     "output_type": "execute_result"
    }
   ],
   "source": [
    "os.getcwd()"
   ]
  },
  {
   "cell_type": "code",
   "execution_count": 5,
   "metadata": {},
   "outputs": [],
   "source": [
    "pop = pd.read_csv('../voe_outputs/opioids/controlsLessThan3Opioids/' \\\n",
    "                  'binary_exposure/binary_outcome/controlVarOUD/populations/' \\\n",
    "                  'voe_2010_2013_5yearfollowup_5OpioidsEnrollment_45NCDageExclusion.csv')"
   ]
  },
  {
   "cell_type": "code",
   "execution_count": 6,
   "metadata": {},
   "outputs": [
    {
     "data": {
      "text/plain": [
       "(186540, 17)"
      ]
     },
     "execution_count": 6,
     "metadata": {},
     "output_type": "execute_result"
    }
   ],
   "source": [
    "pop.shape"
   ]
  },
  {
   "cell_type": "code",
   "execution_count": 7,
   "metadata": {},
   "outputs": [
    {
     "data": {
      "text/html": [
       "<div>\n",
       "<style scoped>\n",
       "    .dataframe tbody tr th:only-of-type {\n",
       "        vertical-align: middle;\n",
       "    }\n",
       "\n",
       "    .dataframe tbody tr th {\n",
       "        vertical-align: top;\n",
       "    }\n",
       "\n",
       "    .dataframe thead th {\n",
       "        text-align: right;\n",
       "    }\n",
       "</style>\n",
       "<table border=\"1\" class=\"dataframe\">\n",
       "  <thead>\n",
       "    <tr style=\"text-align: right;\">\n",
       "      <th></th>\n",
       "      <th>Unnamed: 0</th>\n",
       "      <th>eid</th>\n",
       "      <th>yob</th>\n",
       "      <th>mob</th>\n",
       "      <th>sex</th>\n",
       "      <th>gp_records</th>\n",
       "      <th>inpatient_records</th>\n",
       "      <th>age</th>\n",
       "      <th>label</th>\n",
       "      <th>ncd</th>\n",
       "      <th>sickle</th>\n",
       "      <th>hiv</th>\n",
       "      <th>aud</th>\n",
       "      <th>tobacco</th>\n",
       "      <th>sud</th>\n",
       "      <th>opioid_count</th>\n",
       "      <th>MAT</th>\n",
       "    </tr>\n",
       "  </thead>\n",
       "  <tbody>\n",
       "    <tr>\n",
       "      <th>0</th>\n",
       "      <td>0</td>\n",
       "      <td>4955891</td>\n",
       "      <td>1959.0</td>\n",
       "      <td>1.0</td>\n",
       "      <td>Female</td>\n",
       "      <td>378.0</td>\n",
       "      <td>3.0</td>\n",
       "      <td>54.0</td>\n",
       "      <td>0</td>\n",
       "      <td>0</td>\n",
       "      <td>0</td>\n",
       "      <td>0</td>\n",
       "      <td>0</td>\n",
       "      <td>0</td>\n",
       "      <td>0</td>\n",
       "      <td>0.0</td>\n",
       "      <td>0</td>\n",
       "    </tr>\n",
       "    <tr>\n",
       "      <th>1</th>\n",
       "      <td>1</td>\n",
       "      <td>2987902</td>\n",
       "      <td>1951.0</td>\n",
       "      <td>9.0</td>\n",
       "      <td>Male</td>\n",
       "      <td>1055.0</td>\n",
       "      <td>73.0</td>\n",
       "      <td>62.0</td>\n",
       "      <td>0</td>\n",
       "      <td>0</td>\n",
       "      <td>0</td>\n",
       "      <td>0</td>\n",
       "      <td>0</td>\n",
       "      <td>0</td>\n",
       "      <td>0</td>\n",
       "      <td>0.0</td>\n",
       "      <td>0</td>\n",
       "    </tr>\n",
       "    <tr>\n",
       "      <th>2</th>\n",
       "      <td>2</td>\n",
       "      <td>2250010</td>\n",
       "      <td>1947.0</td>\n",
       "      <td>12.0</td>\n",
       "      <td>Male</td>\n",
       "      <td>378.0</td>\n",
       "      <td>1.0</td>\n",
       "      <td>66.0</td>\n",
       "      <td>0</td>\n",
       "      <td>0</td>\n",
       "      <td>0</td>\n",
       "      <td>0</td>\n",
       "      <td>0</td>\n",
       "      <td>0</td>\n",
       "      <td>0</td>\n",
       "      <td>0.0</td>\n",
       "      <td>0</td>\n",
       "    </tr>\n",
       "    <tr>\n",
       "      <th>3</th>\n",
       "      <td>3</td>\n",
       "      <td>3247459</td>\n",
       "      <td>1944.0</td>\n",
       "      <td>11.0</td>\n",
       "      <td>Male</td>\n",
       "      <td>407.0</td>\n",
       "      <td>7.0</td>\n",
       "      <td>69.0</td>\n",
       "      <td>0</td>\n",
       "      <td>0</td>\n",
       "      <td>0</td>\n",
       "      <td>0</td>\n",
       "      <td>0</td>\n",
       "      <td>0</td>\n",
       "      <td>0</td>\n",
       "      <td>0.0</td>\n",
       "      <td>0</td>\n",
       "    </tr>\n",
       "    <tr>\n",
       "      <th>4</th>\n",
       "      <td>4</td>\n",
       "      <td>2448170</td>\n",
       "      <td>1948.0</td>\n",
       "      <td>3.0</td>\n",
       "      <td>Male</td>\n",
       "      <td>298.0</td>\n",
       "      <td>NaN</td>\n",
       "      <td>65.0</td>\n",
       "      <td>0</td>\n",
       "      <td>0</td>\n",
       "      <td>0</td>\n",
       "      <td>0</td>\n",
       "      <td>0</td>\n",
       "      <td>0</td>\n",
       "      <td>0</td>\n",
       "      <td>0.0</td>\n",
       "      <td>0</td>\n",
       "    </tr>\n",
       "  </tbody>\n",
       "</table>\n",
       "</div>"
      ],
      "text/plain": [
       "   Unnamed: 0      eid     yob   mob     sex  gp_records  inpatient_records  \\\n",
       "0           0  4955891  1959.0   1.0  Female       378.0                3.0   \n",
       "1           1  2987902  1951.0   9.0    Male      1055.0               73.0   \n",
       "2           2  2250010  1947.0  12.0    Male       378.0                1.0   \n",
       "3           3  3247459  1944.0  11.0    Male       407.0                7.0   \n",
       "4           4  2448170  1948.0   3.0    Male       298.0                NaN   \n",
       "\n",
       "    age  label  ncd  sickle  hiv  aud  tobacco  sud  opioid_count  MAT  \n",
       "0  54.0      0    0       0    0    0        0    0           0.0    0  \n",
       "1  62.0      0    0       0    0    0        0    0           0.0    0  \n",
       "2  66.0      0    0       0    0    0        0    0           0.0    0  \n",
       "3  69.0      0    0       0    0    0        0    0           0.0    0  \n",
       "4  65.0      0    0       0    0    0        0    0           0.0    0  "
      ]
     },
     "execution_count": 7,
     "metadata": {},
     "output_type": "execute_result"
    }
   ],
   "source": [
    "pop.head()"
   ]
  },
  {
   "cell_type": "code",
   "execution_count": 8,
   "metadata": {},
   "outputs": [],
   "source": [
    "oprx_pop = pop[pop.label==1]\n",
    "\n",
    "opioid_mrns = oprx_pop.eid\n",
    "control_mrns = pop[pop.label==0].eid"
   ]
  },
  {
   "cell_type": "code",
   "execution_count": 63,
   "metadata": {},
   "outputs": [
    {
     "data": {
      "image/png": "[encoded data removed]",
      "text/plain": [
       "<Figure size 432x288 with 1 Axes>"
      ]
     },
     "metadata": {
      "needs_background": "light"
     },
     "output_type": "display_data"
    }
   ],
   "source": [
    "#histogram of opioid prescriptions in OPRx cohort\n",
    "c,b,_ = plt.hist(oprx_pop.opioid_count, log=True,\n",
    "                 bins=np.arange(0,680,20), color='blue', edgecolor='black', linewidth=0.3)\n",
    "plt.xlabel('Number of opioid prescriptions')\n",
    "plt.ylabel('Number of patients')\n",
    "plt.savefig('../figures/histogram_OPRx_cohortEnroll5OPRx_enroll2010-2012_NCDAgeExclusion_45.png', dpi=300)"
   ]
  },
  {
   "cell_type": "code",
   "execution_count": 10,
   "metadata": {},
   "outputs": [
    {
     "data": {
      "text/plain": [
       "(0.13035735486168823, 0.16181882939570225, 0.22118010210138905)"
      ]
     },
     "execution_count": 10,
     "metadata": {},
     "output_type": "execute_result"
    }
   ],
   "source": [
    "c[2]/oprx_pop.shape[0], c[1]/oprx_pop.shape[0], c[0]/oprx_pop.shape[0]"
   ]
  },
  {
   "cell_type": "code",
   "execution_count": 66,
   "metadata": {},
   "outputs": [],
   "source": [
    "def fisher(cases_data, controls_data, factor):\n",
    "    import scipy.stats as stats\n",
    "    import sys\n",
    "    \n",
    "    ORs = []\n",
    "    pvalues = []\n",
    "    cases_with_list = []\n",
    "    controls_with_list = []\n",
    "    cases_without_list = []\n",
    "    controls_without_list = []\n",
    "    \n",
    "    #overlapping factors (e.g., dx, rx), Ns of groups\n",
    "    allfactors = list(set(cases_data[factor]).union(set(controls_data[factor])))\n",
    "    num_cases = len(set(cases_data.eid))\n",
    "    num_controls = len(set(controls_data.eid))\n",
    "    \n",
    "    #counts of each factor\n",
    "    cases_rx_counts = cases_data.groupby(factor).groups\n",
    "    controls_rx_counts = controls_data.groupby(factor).groups\n",
    "    \n",
    "    n=0\n",
    "    for i in allfactors:\n",
    "        sys.stdout.write('%i out of %i.\\r' % (n+1, len(allfactors)))\n",
    "        sys.stdout.flush()\n",
    "        \n",
    "        #number of patients with factor\n",
    "        if i in list(cases_rx_counts.keys()):\n",
    "            cases_with = len(set(cases_data.iloc[cases_rx_counts[i]].eid))#cases_data.count(i)\n",
    "        else: cases_with = 0\n",
    "        \n",
    "        if i in list(controls_rx_counts.keys()):\n",
    "            controls_with = len(set(controls_data.iloc[controls_rx_counts[i]].eid))#controls_data.count(i)\n",
    "        else: controls_with = 0\n",
    "        \n",
    "        cases_without = num_cases - cases_with\n",
    "        controls_without = num_controls - controls_with\n",
    "        \n",
    "        cases_with_list.append(cases_with)\n",
    "        controls_with_list.append(controls_with)\n",
    "        cases_without_list.append(cases_without)\n",
    "        controls_without_list.append(controls_without)\n",
    "        \n",
    "        #if any zeros in 2x2 table, add 1 to all cells\n",
    "        if 0 in [cases_with, cases_without, controls_with, controls_without]:\n",
    "            oddsratio, pvalue = stats.fisher_exact([[cases_with+1, cases_without+1],\n",
    "                                                    [controls_with+1, controls_without+1]])\n",
    "        else:\n",
    "            oddsratio, pvalue = stats.fisher_exact([[cases_with, cases_without], [controls_with, controls_without]])\n",
    "        \n",
    "        ORs.append(oddsratio)\n",
    "        #bonferroni correction\n",
    "        pvalues.append(pvalue*len(allfactors))\n",
    "        \n",
    "        n+=1\n",
    "    \n",
    "    fisher_data = pd.DataFrame()\n",
    "    fisher_data[factor] = allfactors\n",
    "    fisher_data['Cases_with'] = cases_with_list\n",
    "    fisher_data['Cases_w/o'] = cases_without_list\n",
    "    fisher_data['Cases_percent'] = fisher_data['Cases_with']/num_cases\n",
    "    fisher_data['Controls_with'] = controls_with_list\n",
    "    fisher_data['Controls_w/o'] = controls_without_list\n",
    "    fisher_data['Controls_percent'] = fisher_data['Controls_with']/num_controls\n",
    "    fisher_data['opi-con_percent'] = fisher_data['Cases_percent'] - fisher_data['Controls_percent']\n",
    "    fisher_data['Odds_ratio'] = ORs\n",
    "    fisher_data['p-value (Bonferroni-corrected)'] = pvalues\n",
    "    \n",
    "    fisher_data = fisher_data.sort_values(by=['Odds_ratio', 'p-value (Bonferroni-corrected)'],\n",
    "                                         ascending=[False,True]).reset_index(drop=True)\n",
    "    \n",
    "    return fisher_data"
   ]
  },
  {
   "attachments": {},
   "cell_type": "markdown",
   "metadata": {},
   "source": [
    "## Meds"
   ]
  },
  {
   "cell_type": "code",
   "execution_count": 52,
   "metadata": {},
   "outputs": [
    {
     "name": "stdout",
     "output_type": "stream",
     "text": [
      "(57656140, 7)\n"
     ]
    }
   ],
   "source": [
    "med = pd.read_parquet('../tidy_data/med.parquet')\n",
    "readv2_drugs = pd.read_parquet('../tidy_data/read_v2_drugs_lkp.parquet')\n",
    "blank_drug_name = med[med.drug_name.isna()]\n",
    "# every single row with a blank drug name has a blank BNF code as well, but they all have ReadV2 codes. Merge with Read2 lookup table\n",
    "b_merge = blank_drug_name.merge(readv2_drugs[['read_code','term_description']], left_on='read_2', right_on='read_code') \n",
    "b_merge.drug_name = b_merge.term_description\n",
    "b_merge.drop(columns=['read_code', 'term_description'], inplace=True)\n",
    "med = pd.concat([med[~med.drug_name.isna()], b_merge]).reset_index(drop=True)"
   ]
  },
  {
   "cell_type": "code",
   "execution_count": 61,
   "metadata": {},
   "outputs": [],
   "source": [
    "def get_drugs(df):\n",
    "    drugs = []\n",
    "\n",
    "    for entry in df['drug_name']:\n",
    "        idx = entry.find(' ')\n",
    "        drugs.append(entry[:idx])\n",
    "        \n",
    "    df['drug'] = drugs\n",
    "    return df"
   ]
  },
  {
   "cell_type": "code",
   "execution_count": 64,
   "metadata": {},
   "outputs": [
    {
     "name": "stderr",
     "output_type": "stream",
     "text": [
      "/hpc/packages/minerva-centos7/py_packages/3.7/lib/python3.7/site-packages/pandas/core/generic.py:5516: SettingWithCopyWarning: \n",
      "A value is trying to be set on a copy of a slice from a DataFrame.\n",
      "Try using .loc[row_indexer,col_indexer] = value instead\n",
      "\n",
      "See the caveats in the documentation: https://pandas.pydata.org/pandas-docs/stable/user_guide/indexing.html#returning-a-view-versus-a-copy\n",
      "  self[name] = value\n",
      "/hpc/packages/minerva-centos7/py_packages/3.7/lib/python3.7/site-packages/pandas/core/generic.py:5516: SettingWithCopyWarning: \n",
      "A value is trying to be set on a copy of a slice from a DataFrame.\n",
      "Try using .loc[row_indexer,col_indexer] = value instead\n",
      "\n",
      "See the caveats in the documentation: https://pandas.pydata.org/pandas-docs/stable/user_guide/indexing.html#returning-a-view-versus-a-copy\n",
      "  self[name] = value\n"
     ]
    }
   ],
   "source": [
    "#Compare medications of controls vs. OPRx, for all meds in patients' entire record\n",
    "\n",
    "opi_cohort_allmeds = med[med.eid.isin(opioid_mrns)]\n",
    "opi_cohort_allmeds.issue_date = pd.to_datetime(opi_cohort_allmeds.issue_date)\n",
    "opi_cohort_allmeds = opi_cohort_allmeds[(opi_cohort_allmeds.issue_date < '01-01-2013')]\n",
    "opi_cohort_allmeds.reset_index(drop=True, inplace=True)\n",
    "opi_cohort_allmeds = get_drugs(opi_cohort_allmeds)\n",
    "\n",
    "con_cohort_allmeds = med[med.eid.isin(control_mrns)]\n",
    "con_cohort_allmeds.issue_date = pd.to_datetime(con_cohort_allmeds.issue_date)\n",
    "con_cohort_allmeds = con_cohort_allmeds[(con_cohort_allmeds.issue_date < '01-01-2013')]\n",
    "con_cohort_allmeds.reset_index(drop=True, inplace=True)\n",
    "con_cohort_allmeds = get_drugs(con_cohort_allmeds)"
   ]
  },
  {
   "cell_type": "code",
   "execution_count": 67,
   "metadata": {
    "scrolled": true
   },
   "outputs": [
    {
     "name": "stdout",
     "output_type": "stream",
     "text": [
      "6955 out of 6955.\r"
     ]
    }
   ],
   "source": [
    "rx_compare = fisher(opi_cohort_allmeds, con_cohort_allmeds, 'drug')"
   ]
  },
  {
   "cell_type": "code",
   "execution_count": 68,
   "metadata": {},
   "outputs": [],
   "source": [
    "rx_compare.to_csv('../tidy_data/fisher_prescriptions_compare_cohortEnroll5OPRx_enroll2010-2012_NCDAgeExclusion_45.csv')\n",
    "# rx_compare = pd.read_csv('../tidy_data/fisher_prescriptions_compare_cohortEnroll5OPRx_enroll2014-2016_NCDAgeExclusion_45.csv')"
   ]
  },
  {
   "cell_type": "code",
   "execution_count": 69,
   "metadata": {},
   "outputs": [
    {
     "data": {
      "text/html": [
       "<div>\n",
       "<style scoped>\n",
       "    .dataframe tbody tr th:only-of-type {\n",
       "        vertical-align: middle;\n",
       "    }\n",
       "\n",
       "    .dataframe tbody tr th {\n",
       "        vertical-align: top;\n",
       "    }\n",
       "\n",
       "    .dataframe thead th {\n",
       "        text-align: right;\n",
       "    }\n",
       "</style>\n",
       "<table border=\"1\" class=\"dataframe\">\n",
       "  <thead>\n",
       "    <tr style=\"text-align: right;\">\n",
       "      <th></th>\n",
       "      <th>drug</th>\n",
       "      <th>Cases_with</th>\n",
       "      <th>Cases_w/o</th>\n",
       "      <th>Cases_percent</th>\n",
       "      <th>Controls_with</th>\n",
       "      <th>Controls_w/o</th>\n",
       "      <th>Controls_percent</th>\n",
       "      <th>opi-con_percent</th>\n",
       "      <th>Odds_ratio</th>\n",
       "      <th>p-value (Bonferroni-corrected)</th>\n",
       "    </tr>\n",
       "  </thead>\n",
       "  <tbody>\n",
       "    <tr>\n",
       "      <th>0</th>\n",
       "      <td>TRAMULIEF</td>\n",
       "      <td>23</td>\n",
       "      <td>8400</td>\n",
       "      <td>0.002731</td>\n",
       "      <td>0</td>\n",
       "      <td>150813</td>\n",
       "      <td>0.000000</td>\n",
       "      <td>0.002731</td>\n",
       "      <td>430.845852</td>\n",
       "      <td>3.703391e-26</td>\n",
       "    </tr>\n",
       "    <tr>\n",
       "      <th>1</th>\n",
       "      <td>DUROGESIC</td>\n",
       "      <td>141</td>\n",
       "      <td>8282</td>\n",
       "      <td>0.016740</td>\n",
       "      <td>6</td>\n",
       "      <td>150807</td>\n",
       "      <td>0.000040</td>\n",
       "      <td>0.016700</td>\n",
       "      <td>427.911676</td>\n",
       "      <td>2.107957e-167</td>\n",
       "    </tr>\n",
       "    <tr>\n",
       "      <th>2</th>\n",
       "      <td>MORPHGESIC</td>\n",
       "      <td>22</td>\n",
       "      <td>8401</td>\n",
       "      <td>0.002612</td>\n",
       "      <td>0</td>\n",
       "      <td>150813</td>\n",
       "      <td>0.000000</td>\n",
       "      <td>0.002612</td>\n",
       "      <td>412.844799</td>\n",
       "      <td>6.737754e-25</td>\n",
       "    </tr>\n",
       "    <tr>\n",
       "      <th>3</th>\n",
       "      <td>MAROL</td>\n",
       "      <td>78</td>\n",
       "      <td>8345</td>\n",
       "      <td>0.009260</td>\n",
       "      <td>4</td>\n",
       "      <td>150809</td>\n",
       "      <td>0.000027</td>\n",
       "      <td>0.009234</td>\n",
       "      <td>352.399700</td>\n",
       "      <td>1.874261e-90</td>\n",
       "    </tr>\n",
       "    <tr>\n",
       "      <th>4</th>\n",
       "      <td>TAPENTADOL</td>\n",
       "      <td>18</td>\n",
       "      <td>8405</td>\n",
       "      <td>0.002137</td>\n",
       "      <td>0</td>\n",
       "      <td>150813</td>\n",
       "      <td>0.000000</td>\n",
       "      <td>0.002137</td>\n",
       "      <td>340.883417</td>\n",
       "      <td>7.235394e-20</td>\n",
       "    </tr>\n",
       "  </tbody>\n",
       "</table>\n",
       "</div>"
      ],
      "text/plain": [
       "         drug  Cases_with  Cases_w/o  Cases_percent  Controls_with  \\\n",
       "0   TRAMULIEF          23       8400       0.002731              0   \n",
       "1   DUROGESIC         141       8282       0.016740              6   \n",
       "2  MORPHGESIC          22       8401       0.002612              0   \n",
       "3       MAROL          78       8345       0.009260              4   \n",
       "4  TAPENTADOL          18       8405       0.002137              0   \n",
       "\n",
       "   Controls_w/o  Controls_percent  opi-con_percent  Odds_ratio  \\\n",
       "0        150813          0.000000         0.002731  430.845852   \n",
       "1        150807          0.000040         0.016700  427.911676   \n",
       "2        150813          0.000000         0.002612  412.844799   \n",
       "3        150809          0.000027         0.009234  352.399700   \n",
       "4        150813          0.000000         0.002137  340.883417   \n",
       "\n",
       "   p-value (Bonferroni-corrected)  \n",
       "0                    3.703391e-26  \n",
       "1                   2.107957e-167  \n",
       "2                    6.737754e-25  \n",
       "3                    1.874261e-90  \n",
       "4                    7.235394e-20  "
      ]
     },
     "execution_count": 69,
     "metadata": {},
     "output_type": "execute_result"
    }
   ],
   "source": [
    "rx_compare.head()"
   ]
  },
  {
   "cell_type": "code",
   "execution_count": 77,
   "metadata": {},
   "outputs": [
    {
     "name": "stdout",
     "output_type": "stream",
     "text": [
      "(1136618, 7)\n",
      "(1136618, 7)\n"
     ]
    }
   ],
   "source": [
    "opioid_rx = pd.read_parquet('../tidy_data/opioid_med.parquet')\n",
    "print(opioid_rx.shape)\n",
    "blank_drug_name = opioid_rx[opioid_rx.drug_name.isna()]\n",
    "# every single row with a blank drug name has a blank BNF code as well, but they all have ReadV2 codes. Merge with Read2 lookup table\n",
    "b_merge = blank_drug_name.merge(readv2_drugs[['read_code','term_description']], left_on='read_2', right_on='read_code') \n",
    "b_merge.drug_name = b_merge.term_description\n",
    "b_merge.drop(columns=['read_code', 'term_description'], inplace=True)\n",
    "opioid_rx = pd.concat([opioid_rx[~opioid_rx.drug_name.isna()], b_merge]).reset_index(drop=True)\n",
    "print(opioid_rx.shape)\n",
    "opioid_rx = get_drugs(opioid_rx)"
   ]
  },
  {
   "cell_type": "code",
   "execution_count": 79,
   "metadata": {},
   "outputs": [
    {
     "name": "stdout",
     "output_type": "stream",
     "text": [
      "(1213, 10)\n",
      "(1155, 10)\n",
      "(189, 10)\n"
     ]
    },
    {
     "data": {
      "image/png": "[encoded data removed]",
      "text/plain": [
       "<Figure size 432x432 with 1 Axes>"
      ]
     },
     "metadata": {
      "needs_background": "light"
     },
     "output_type": "display_data"
    }
   ],
   "source": [
    "fig, ax = plt.subplots(figsize=(6,6))\n",
    "\n",
    "variable = 'Odds_ratio'\n",
    "rx_compare_sig = rx_compare[rx_compare['p-value (Bonferroni-corrected)']<0.05].sort_values(variable, ascending=False)\n",
    "# rx_compare_sig = rx_compare_sig[~rx_compare_sig.PHARMACEUTICAL_CLASS.str.contains('OPIOID')]\n",
    "print(rx_compare_sig.shape)\n",
    "rx_compare_sig = rx_compare_sig[~rx_compare_sig.drug.isin(opioid_rx.drug)]\n",
    "print(rx_compare_sig.shape)\n",
    "rx_compare_sig = rx_compare_sig[(rx_compare_sig.Cases_percent>0.05) | \n",
    "                               ((rx_compare_sig.Controls_percent>0.05))]\n",
    "print(rx_compare_sig.shape)\n",
    "#if there are any drugs overrepresented in the controls, show the top and bottom 10\n",
    "# if min(rx_compare_sig[variable])<1:\n",
    "#     data = pd.concat([rx_compare_sig[:10], rx_compare_sig[-10:]])\n",
    "# #if not, just show the top 20\n",
    "# else:\n",
    "data = rx_compare_sig[:20]\n",
    "\n",
    "# Hide the right and top spines\n",
    "ax.spines.right.set_visible(False)\n",
    "ax.spines.top.set_visible(False)\n",
    "\n",
    "ax.barh(np.arange(data.shape[0]), data[variable],  align='center', color='blue')\n",
    "ax.set_yticks(np.arange(data.shape[0]), labels=data.drug.str.title())\n",
    "# ax.set_yticks(())\n",
    "\n",
    "ax.invert_yaxis()  # labels read top-to-bottom\n",
    "ax.set_xlabel('Odds ratio')\n",
    "plt.tight_layout()\n",
    "plt.savefig('../figures/rx_fisherTest_oddsratio_bargraph_OPRx_cohortEnroll5OPRx_enroll2010-2012_NCDAgeExclusion_45.png', dpi=300)"
   ]
  },
  {
   "attachments": {},
   "cell_type": "markdown",
   "metadata": {},
   "source": [
    "## Diagnoses"
   ]
  },
  {
   "cell_type": "code",
   "execution_count": 80,
   "metadata": {},
   "outputs": [],
   "source": [
    "dx = pd.read_parquet('../tidy_data/icd_data_all_dx.parquet')\n"
   ]
  },
  {
   "cell_type": "code",
   "execution_count": 81,
   "metadata": {},
   "outputs": [
    {
     "data": {
      "text/html": [
       "<div>\n",
       "<style scoped>\n",
       "    .dataframe tbody tr th:only-of-type {\n",
       "        vertical-align: middle;\n",
       "    }\n",
       "\n",
       "    .dataframe tbody tr th {\n",
       "        vertical-align: top;\n",
       "    }\n",
       "\n",
       "    .dataframe thead th {\n",
       "        text-align: right;\n",
       "    }\n",
       "</style>\n",
       "<table border=\"1\" class=\"dataframe\">\n",
       "  <thead>\n",
       "    <tr style=\"text-align: right;\">\n",
       "      <th></th>\n",
       "      <th>eid</th>\n",
       "      <th>event_dt</th>\n",
       "      <th>icd_code</th>\n",
       "      <th>DESCRIPTION</th>\n",
       "      <th>icd_type</th>\n",
       "      <th>source</th>\n",
       "      <th>AGE_AT_ENCOUNTER</th>\n",
       "    </tr>\n",
       "  </thead>\n",
       "  <tbody>\n",
       "    <tr>\n",
       "      <th>0</th>\n",
       "      <td>1371460</td>\n",
       "      <td>1990-06-21</td>\n",
       "      <td>3000</td>\n",
       "      <td>ANXIETY STATES</td>\n",
       "      <td>9</td>\n",
       "      <td>GP</td>\n",
       "      <td>36.139630</td>\n",
       "    </tr>\n",
       "    <tr>\n",
       "      <th>1</th>\n",
       "      <td>1935764</td>\n",
       "      <td>2015-11-06</td>\n",
       "      <td>V254</td>\n",
       "      <td>SURVEILLANCE OF PREVIOUSLY PRESCRIBED CONTRACE...</td>\n",
       "      <td>9</td>\n",
       "      <td>GP</td>\n",
       "      <td>51.761807</td>\n",
       "    </tr>\n",
       "    <tr>\n",
       "      <th>2</th>\n",
       "      <td>1748537</td>\n",
       "      <td>2014-09-16</td>\n",
       "      <td>3027</td>\n",
       "      <td>FRIGIDITY AND IMPOTENCE</td>\n",
       "      <td>9</td>\n",
       "      <td>GP</td>\n",
       "      <td>45.544148</td>\n",
       "    </tr>\n",
       "    <tr>\n",
       "      <th>3</th>\n",
       "      <td>5119574</td>\n",
       "      <td>2010-04-24</td>\n",
       "      <td>M814/-M838/</td>\n",
       "      <td>None</td>\n",
       "      <td>9</td>\n",
       "      <td>GP</td>\n",
       "      <td>68.813142</td>\n",
       "    </tr>\n",
       "    <tr>\n",
       "      <th>4</th>\n",
       "      <td>5854769</td>\n",
       "      <td>2000-02-11</td>\n",
       "      <td>311</td>\n",
       "      <td>DEPRESSIVE DISORDER, NOT ELSEWHERE CLASSIFIED</td>\n",
       "      <td>9</td>\n",
       "      <td>GP</td>\n",
       "      <td>56.112252</td>\n",
       "    </tr>\n",
       "  </tbody>\n",
       "</table>\n",
       "</div>"
      ],
      "text/plain": [
       "       eid   event_dt     icd_code  \\\n",
       "0  1371460 1990-06-21         3000   \n",
       "1  1935764 2015-11-06         V254   \n",
       "2  1748537 2014-09-16         3027   \n",
       "3  5119574 2010-04-24  M814/-M838/   \n",
       "4  5854769 2000-02-11          311   \n",
       "\n",
       "                                         DESCRIPTION  icd_type source  \\\n",
       "0                                     ANXIETY STATES         9     GP   \n",
       "1  SURVEILLANCE OF PREVIOUSLY PRESCRIBED CONTRACE...         9     GP   \n",
       "2                            FRIGIDITY AND IMPOTENCE         9     GP   \n",
       "3                                               None         9     GP   \n",
       "4      DEPRESSIVE DISORDER, NOT ELSEWHERE CLASSIFIED         9     GP   \n",
       "\n",
       "   AGE_AT_ENCOUNTER  \n",
       "0         36.139630  \n",
       "1         51.761807  \n",
       "2         45.544148  \n",
       "3         68.813142  \n",
       "4         56.112252  "
      ]
     },
     "execution_count": 81,
     "metadata": {},
     "output_type": "execute_result"
    }
   ],
   "source": [
    "dx.head()"
   ]
  },
  {
   "cell_type": "code",
   "execution_count": 82,
   "metadata": {},
   "outputs": [
    {
     "name": "stderr",
     "output_type": "stream",
     "text": [
      "/hpc/packages/minerva-centos7/py_packages/3.7/lib/python3.7/site-packages/ipykernel_launcher.py:2: SettingWithCopyWarning: \n",
      "A value is trying to be set on a copy of a slice from a DataFrame.\n",
      "Try using .loc[row_indexer,col_indexer] = value instead\n",
      "\n",
      "See the caveats in the documentation: https://pandas.pydata.org/pandas-docs/stable/user_guide/indexing.html#returning-a-view-versus-a-copy\n",
      "  \n",
      "/hpc/packages/minerva-centos7/py_packages/3.7/lib/python3.7/site-packages/ipykernel_launcher.py:8: SettingWithCopyWarning: \n",
      "A value is trying to be set on a copy of a slice from a DataFrame.\n",
      "Try using .loc[row_indexer,col_indexer] = value instead\n",
      "\n",
      "See the caveats in the documentation: https://pandas.pydata.org/pandas-docs/stable/user_guide/indexing.html#returning-a-view-versus-a-copy\n",
      "  \n"
     ]
    }
   ],
   "source": [
    "opi_cohort_dx = dx[dx.eid.isin(opioid_mrns)]\n",
    "opi_cohort_dx['event_dt'] = pd.to_datetime(opi_cohort_dx['event_dt'])\n",
    "opi_cohort_dx = opi_cohort_dx[(opi_cohort_dx.event_dt<'01-01-2013')]\n",
    "opi_cohort_dx.reset_index(drop=True, inplace=True)\n",
    "\n",
    "\n",
    "con_cohort_dx = dx[dx.eid.isin(control_mrns)]\n",
    "con_cohort_dx['event_dt'] = pd.to_datetime(con_cohort_dx['event_dt'])\n",
    "con_cohort_dx = con_cohort_dx[(con_cohort_dx.event_dt<'01-01-2013')]\n",
    "con_cohort_dx.reset_index(drop=True, inplace=True)"
   ]
  },
  {
   "cell_type": "code",
   "execution_count": 83,
   "metadata": {},
   "outputs": [
    {
     "name": "stdout",
     "output_type": "stream",
     "text": [
      "13116 out of 13116.\r"
     ]
    }
   ],
   "source": [
    "dx_compare = fisher(opi_cohort_dx, con_cohort_dx, 'DESCRIPTION')"
   ]
  },
  {
   "cell_type": "code",
   "execution_count": 84,
   "metadata": {},
   "outputs": [],
   "source": [
    "dx_compare.to_csv('../tidy_data/fisher_diagnoses_compare_cohortEnroll5OPRx_enroll2010-2012_NCDAgeExclusion_45.csv')\n",
    "# dx_compare = pd.read_csv('../tidy_data/fisher_diagnoses_compare_cohortEnroll5OPRx_enroll2014-2016_NCDAgeExclusion_45.csv')"
   ]
  },
  {
   "cell_type": "code",
   "execution_count": 89,
   "metadata": {},
   "outputs": [
    {
     "data": {
      "image/png": "[encoded data removed]",
      "text/plain": [
       "<Figure size 720x720 with 1 Axes>"
      ]
     },
     "metadata": {
      "needs_background": "light"
     },
     "output_type": "display_data"
    }
   ],
   "source": [
    "fig, ax = plt.subplots(figsize=(10,10))\n",
    "\n",
    "variable = 'Odds_ratio'\n",
    "dx_compare_sig = dx_compare[dx_compare['p-value (Bonferroni-corrected)']<0.05].sort_values(variable, ascending=False)\n",
    "dx_compare_sig = dx_compare_sig[~dx_compare_sig.DESCRIPTION.str.contains('|'.join(['Opioid','opioid']))]\n",
    "dx_compare_sig = dx_compare_sig[(dx_compare_sig.Cases_percent>0.05) | \n",
    "                               ((dx_compare_sig.Controls_percent>0.05))]\n",
    "\n",
    "#if there are any drugs overrepresented in the controls, show the top and bottom 10\n",
    "# if min(rx_compare_sig[variable])<1:\n",
    "#     data = pd.concat([dx_compare_sig[:10], dx_compare_sig[-10:]])\n",
    "# #if not, just show the top 20\n",
    "# else:\n",
    "data = dx_compare_sig[:20]\n",
    "    \n",
    "    \n",
    "# Hide the right and top spines\n",
    "ax.spines.right.set_visible(False)\n",
    "ax.spines.top.set_visible(False)\n",
    "\n",
    "ax.barh(np.arange(data.shape[0]), data[variable],  align='center', color='blue')\n",
    "\n",
    "# yticks = data.LABEL.tolist()\n",
    "# yticks[4] = 'Alcohol dependence, continuous'\n",
    "# yticks[5] = 'Alcohol dependence, unspecified'\n",
    "# yticks[6] = 'Drug abuse, unspecified'\n",
    "# yticks[10] = 'Open wound of finger(s), no complications'\n",
    "# yticks[11] = 'Abnormal results of cardiovascular function study'\n",
    "# yticks[12] = 'Accidents from cutting/piercing instruments'\n",
    "# yticks[14] = 'Benign hypertensive heart disease w/o heart failure'\n",
    "# yticks[16] = 'Routine general medical examination'\n",
    "# yticks[17] = 'Benign neoplasm of connective tissue of upper limb'\n",
    "# yticks[19] = 'Malignant hypertensive heart disease w/o heart failure'\n",
    "\n",
    "ax.set_yticks(np.arange(data.shape[0]), labels=data.DESCRIPTION)#yticks)\n",
    "# ax.set_yticks(())\n",
    "\n",
    "ax.invert_yaxis()  # labels read top-to-bottom\n",
    "ax.set_xlabel('Odds ratio')\n",
    "plt.tight_layout()\n",
    "plt.savefig('../figures/dx_fisherTest_oddsratio_OPRx_cohortEnroll5OPRx_enroll2014-2016_NCDAgeExclusion_45.png', dpi=300)"
   ]
  }
 ],
 "metadata": {
  "kernelspec": {
   "display_name": "Python 3",
   "language": "python",
   "name": "python3"
  }
 },
 "nbformat": 4,
 "nbformat_minor": 2
}
