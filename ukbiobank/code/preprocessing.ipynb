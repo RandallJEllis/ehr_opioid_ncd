{
 "cells": [
  {
   "cell_type": "code",
   "execution_count": 1,
   "id": "5e15dae6",
   "metadata": {},
   "outputs": [],
   "source": [
    "import pandas as pd\n",
    "import matplotlib.pyplot as plt\n",
    "import numpy as np\n",
    "from collections import Counter\n",
    "from datetime import datetime, timedelta"
   ]
  },
  {
   "cell_type": "code",
   "execution_count": 2,
   "id": "c8d76b24",
   "metadata": {},
   "outputs": [
    {
     "data": {
      "text/plain": [
       "'/sc/arion/projects/MetaDope/Randy/ehr'"
      ]
     },
     "execution_count": 2,
     "metadata": {},
     "output_type": "execute_result"
    }
   ],
   "source": [
    "import os\n",
    "os.getcwd()"
   ]
  },
  {
   "cell_type": "code",
   "execution_count": 3,
   "id": "7767863b",
   "metadata": {},
   "outputs": [],
   "source": [
    "os.chdir('ukbiobank/code/aud_voe/')"
   ]
  },
  {
   "cell_type": "code",
   "execution_count": 51,
   "id": "90219195",
   "metadata": {},
   "outputs": [],
   "source": [
    "sud_icd = pd.read_parquet('../tidy_data/sud_diagnoses.parquet')"
   ]
  },
  {
   "cell_type": "code",
   "execution_count": 52,
   "id": "71c0ca02",
   "metadata": {},
   "outputs": [
    {
     "data": {
      "text/html": [
       "<div>\n",
       "<style scoped>\n",
       "    .dataframe tbody tr th:only-of-type {\n",
       "        vertical-align: middle;\n",
       "    }\n",
       "\n",
       "    .dataframe tbody tr th {\n",
       "        vertical-align: top;\n",
       "    }\n",
       "\n",
       "    .dataframe thead th {\n",
       "        text-align: right;\n",
       "    }\n",
       "</style>\n",
       "<table border=\"1\" class=\"dataframe\">\n",
       "  <thead>\n",
       "    <tr style=\"text-align: right;\">\n",
       "      <th></th>\n",
       "      <th>eid</th>\n",
       "      <th>event_dt</th>\n",
       "      <th>icd_code</th>\n",
       "      <th>DESCRIPTION</th>\n",
       "      <th>icd_type</th>\n",
       "      <th>source</th>\n",
       "      <th>AGE_AT_ENCOUNTER</th>\n",
       "    </tr>\n",
       "  </thead>\n",
       "  <tbody>\n",
       "    <tr>\n",
       "      <th>0</th>\n",
       "      <td>4671194</td>\n",
       "      <td>2013-01-01</td>\n",
       "      <td>303</td>\n",
       "      <td>ALCOHOL DEPENDENCE SYNDROME</td>\n",
       "      <td>9</td>\n",
       "      <td>GP</td>\n",
       "      <td>64.418891</td>\n",
       "    </tr>\n",
       "    <tr>\n",
       "      <th>1</th>\n",
       "      <td>5119574</td>\n",
       "      <td>1996-12-19</td>\n",
       "      <td>303</td>\n",
       "      <td>ALCOHOL DEPENDENCE SYNDROME</td>\n",
       "      <td>9</td>\n",
       "      <td>GP</td>\n",
       "      <td>55.468857</td>\n",
       "    </tr>\n",
       "    <tr>\n",
       "      <th>2</th>\n",
       "      <td>4019216</td>\n",
       "      <td>1994-01-25</td>\n",
       "      <td>303</td>\n",
       "      <td>ALCOHOL DEPENDENCE SYNDROME</td>\n",
       "      <td>9</td>\n",
       "      <td>GP</td>\n",
       "      <td>46.570842</td>\n",
       "    </tr>\n",
       "    <tr>\n",
       "      <th>3</th>\n",
       "      <td>5666335</td>\n",
       "      <td>2002-04-11</td>\n",
       "      <td>303</td>\n",
       "      <td>ALCOHOL DEPENDENCE SYNDROME</td>\n",
       "      <td>9</td>\n",
       "      <td>GP</td>\n",
       "      <td>58.190281</td>\n",
       "    </tr>\n",
       "    <tr>\n",
       "      <th>4</th>\n",
       "      <td>3848944</td>\n",
       "      <td>2007-04-19</td>\n",
       "      <td>303</td>\n",
       "      <td>ALCOHOL DEPENDENCE SYNDROME</td>\n",
       "      <td>9</td>\n",
       "      <td>GP</td>\n",
       "      <td>66.546201</td>\n",
       "    </tr>\n",
       "  </tbody>\n",
       "</table>\n",
       "</div>"
      ],
      "text/plain": [
       "       eid   event_dt icd_code                  DESCRIPTION  icd_type source  \\\n",
       "0  4671194 2013-01-01      303  ALCOHOL DEPENDENCE SYNDROME         9     GP   \n",
       "1  5119574 1996-12-19      303  ALCOHOL DEPENDENCE SYNDROME         9     GP   \n",
       "2  4019216 1994-01-25      303  ALCOHOL DEPENDENCE SYNDROME         9     GP   \n",
       "3  5666335 2002-04-11      303  ALCOHOL DEPENDENCE SYNDROME         9     GP   \n",
       "4  3848944 2007-04-19      303  ALCOHOL DEPENDENCE SYNDROME         9     GP   \n",
       "\n",
       "   AGE_AT_ENCOUNTER  \n",
       "0         64.418891  \n",
       "1         55.468857  \n",
       "2         46.570842  \n",
       "3         58.190281  \n",
       "4         66.546201  "
      ]
     },
     "execution_count": 52,
     "metadata": {},
     "output_type": "execute_result"
    }
   ],
   "source": [
    "sud_icd.head()"
   ]
  },
  {
   "cell_type": "code",
   "execution_count": 15,
   "id": "7f18369c",
   "metadata": {},
   "outputs": [],
   "source": [
    "hesin_diag = pd.read_parquet('../tidy_data/data_hesin_diag.parquet')\n"
   ]
  },
  {
   "cell_type": "code",
   "execution_count": 12,
   "id": "4ef9aed2",
   "metadata": {},
   "outputs": [],
   "source": [
    "gp_clin = pd.read_parquet('../tidy_data/data_gp_clinical.parquet')\n"
   ]
  },
  {
   "cell_type": "code",
   "execution_count": 13,
   "id": "74cea7ed",
   "metadata": {},
   "outputs": [],
   "source": [
    "med = pd.read_parquet('../tidy_data/med.parquet')\n"
   ]
  },
  {
   "cell_type": "code",
   "execution_count": 16,
   "id": "f6fb666a",
   "metadata": {},
   "outputs": [
    {
     "data": {
      "text/plain": [
       "((15149475, 9), (122389889, 4), (57656140, 7))"
      ]
     },
     "execution_count": 16,
     "metadata": {},
     "output_type": "execute_result"
    }
   ],
   "source": [
    "hesin_diag.shape, gp_clin.shape, med.shape"
   ]
  },
  {
   "cell_type": "code",
   "execution_count": 17,
   "id": "8cd8bcf4",
   "metadata": {},
   "outputs": [
    {
     "data": {
      "text/html": [
       "<div>\n",
       "<style scoped>\n",
       "    .dataframe tbody tr th:only-of-type {\n",
       "        vertical-align: middle;\n",
       "    }\n",
       "\n",
       "    .dataframe tbody tr th {\n",
       "        vertical-align: top;\n",
       "    }\n",
       "\n",
       "    .dataframe thead th {\n",
       "        text-align: right;\n",
       "    }\n",
       "</style>\n",
       "<table border=\"1\" class=\"dataframe\">\n",
       "  <thead>\n",
       "    <tr style=\"text-align: right;\">\n",
       "      <th></th>\n",
       "      <th>dnx_hesin_diag_id</th>\n",
       "      <th>eid</th>\n",
       "      <th>diag_icd9</th>\n",
       "      <th>diag_icd10</th>\n",
       "      <th>ins_index</th>\n",
       "      <th>diag_icd9_nb</th>\n",
       "      <th>epistart</th>\n",
       "      <th>epiend</th>\n",
       "      <th>epidur</th>\n",
       "    </tr>\n",
       "  </thead>\n",
       "  <tbody>\n",
       "    <tr>\n",
       "      <th>0</th>\n",
       "      <td>1000031-6-10</td>\n",
       "      <td>1000031</td>\n",
       "      <td>None</td>\n",
       "      <td>Z501</td>\n",
       "      <td>6</td>\n",
       "      <td>NaN</td>\n",
       "      <td>2021-05-08</td>\n",
       "      <td>2021-05-11</td>\n",
       "      <td>3.0</td>\n",
       "    </tr>\n",
       "    <tr>\n",
       "      <th>1</th>\n",
       "      <td>1000031-6-6</td>\n",
       "      <td>1000031</td>\n",
       "      <td>None</td>\n",
       "      <td>I517</td>\n",
       "      <td>6</td>\n",
       "      <td>NaN</td>\n",
       "      <td>2021-05-08</td>\n",
       "      <td>2021-05-11</td>\n",
       "      <td>3.0</td>\n",
       "    </tr>\n",
       "    <tr>\n",
       "      <th>2</th>\n",
       "      <td>1000031-6-1</td>\n",
       "      <td>1000031</td>\n",
       "      <td>None</td>\n",
       "      <td>M511</td>\n",
       "      <td>6</td>\n",
       "      <td>NaN</td>\n",
       "      <td>2021-05-08</td>\n",
       "      <td>2021-05-11</td>\n",
       "      <td>3.0</td>\n",
       "    </tr>\n",
       "    <tr>\n",
       "      <th>3</th>\n",
       "      <td>1000031-6-8</td>\n",
       "      <td>1000031</td>\n",
       "      <td>None</td>\n",
       "      <td>Z864</td>\n",
       "      <td>6</td>\n",
       "      <td>NaN</td>\n",
       "      <td>2021-05-08</td>\n",
       "      <td>2021-05-11</td>\n",
       "      <td>3.0</td>\n",
       "    </tr>\n",
       "    <tr>\n",
       "      <th>4</th>\n",
       "      <td>1000031-6-0</td>\n",
       "      <td>1000031</td>\n",
       "      <td>None</td>\n",
       "      <td>G551</td>\n",
       "      <td>6</td>\n",
       "      <td>NaN</td>\n",
       "      <td>2021-05-08</td>\n",
       "      <td>2021-05-11</td>\n",
       "      <td>3.0</td>\n",
       "    </tr>\n",
       "  </tbody>\n",
       "</table>\n",
       "</div>"
      ],
      "text/plain": [
       "  dnx_hesin_diag_id      eid diag_icd9 diag_icd10  ins_index  diag_icd9_nb  \\\n",
       "0      1000031-6-10  1000031      None       Z501          6           NaN   \n",
       "1       1000031-6-6  1000031      None       I517          6           NaN   \n",
       "2       1000031-6-1  1000031      None       M511          6           NaN   \n",
       "3       1000031-6-8  1000031      None       Z864          6           NaN   \n",
       "4       1000031-6-0  1000031      None       G551          6           NaN   \n",
       "\n",
       "    epistart      epiend  epidur  \n",
       "0 2021-05-08  2021-05-11     3.0  \n",
       "1 2021-05-08  2021-05-11     3.0  \n",
       "2 2021-05-08  2021-05-11     3.0  \n",
       "3 2021-05-08  2021-05-11     3.0  \n",
       "4 2021-05-08  2021-05-11     3.0  "
      ]
     },
     "execution_count": 17,
     "metadata": {},
     "output_type": "execute_result"
    }
   ],
   "source": [
    "hesin_diag.head()"
   ]
  },
  {
   "cell_type": "code",
   "execution_count": 18,
   "id": "5eccb464",
   "metadata": {},
   "outputs": [
    {
     "data": {
      "text/html": [
       "<div>\n",
       "<style scoped>\n",
       "    .dataframe tbody tr th:only-of-type {\n",
       "        vertical-align: middle;\n",
       "    }\n",
       "\n",
       "    .dataframe tbody tr th {\n",
       "        vertical-align: top;\n",
       "    }\n",
       "\n",
       "    .dataframe thead th {\n",
       "        text-align: right;\n",
       "    }\n",
       "</style>\n",
       "<table border=\"1\" class=\"dataframe\">\n",
       "  <thead>\n",
       "    <tr style=\"text-align: right;\">\n",
       "      <th></th>\n",
       "      <th>eid</th>\n",
       "      <th>read_2</th>\n",
       "      <th>read_3</th>\n",
       "      <th>event_dt</th>\n",
       "    </tr>\n",
       "  </thead>\n",
       "  <tbody>\n",
       "    <tr>\n",
       "      <th>0</th>\n",
       "      <td>1000047</td>\n",
       "      <td>44g..</td>\n",
       "      <td>None</td>\n",
       "      <td>2013-08-19</td>\n",
       "    </tr>\n",
       "    <tr>\n",
       "      <th>1</th>\n",
       "      <td>1000047</td>\n",
       "      <td>9Na..</td>\n",
       "      <td>None</td>\n",
       "      <td>2013-11-04</td>\n",
       "    </tr>\n",
       "    <tr>\n",
       "      <th>2</th>\n",
       "      <td>1000047</td>\n",
       "      <td>42N..</td>\n",
       "      <td>None</td>\n",
       "      <td>2013-01-28</td>\n",
       "    </tr>\n",
       "    <tr>\n",
       "      <th>3</th>\n",
       "      <td>1000047</td>\n",
       "      <td>9Z...</td>\n",
       "      <td>None</td>\n",
       "      <td>2015-07-08</td>\n",
       "    </tr>\n",
       "    <tr>\n",
       "      <th>4</th>\n",
       "      <td>1000047</td>\n",
       "      <td>9Na..</td>\n",
       "      <td>None</td>\n",
       "      <td>2014-06-16</td>\n",
       "    </tr>\n",
       "  </tbody>\n",
       "</table>\n",
       "</div>"
      ],
      "text/plain": [
       "       eid read_2 read_3   event_dt\n",
       "0  1000047  44g..   None 2013-08-19\n",
       "1  1000047  9Na..   None 2013-11-04\n",
       "2  1000047  42N..   None 2013-01-28\n",
       "3  1000047  9Z...   None 2015-07-08\n",
       "4  1000047  9Na..   None 2014-06-16"
      ]
     },
     "execution_count": 18,
     "metadata": {},
     "output_type": "execute_result"
    }
   ],
   "source": [
    "gp_clin.head()"
   ]
  },
  {
   "cell_type": "code",
   "execution_count": 19,
   "id": "9bcf2994",
   "metadata": {},
   "outputs": [
    {
     "data": {
      "text/html": [
       "<div>\n",
       "<style scoped>\n",
       "    .dataframe tbody tr th:only-of-type {\n",
       "        vertical-align: middle;\n",
       "    }\n",
       "\n",
       "    .dataframe tbody tr th {\n",
       "        vertical-align: top;\n",
       "    }\n",
       "\n",
       "    .dataframe thead th {\n",
       "        text-align: right;\n",
       "    }\n",
       "</style>\n",
       "<table border=\"1\" class=\"dataframe\">\n",
       "  <thead>\n",
       "    <tr style=\"text-align: right;\">\n",
       "      <th></th>\n",
       "      <th>eid</th>\n",
       "      <th>bnf_code</th>\n",
       "      <th>drug_name</th>\n",
       "      <th>quantity</th>\n",
       "      <th>issue_date</th>\n",
       "      <th>read_2</th>\n",
       "      <th>AGE_AT_ENCOUNTER</th>\n",
       "    </tr>\n",
       "  </thead>\n",
       "  <tbody>\n",
       "    <tr>\n",
       "      <th>0</th>\n",
       "      <td>1000047</td>\n",
       "      <td>02090000</td>\n",
       "      <td>ASPIRIN 75MG GASTRO-RESISTANT TABLETS</td>\n",
       "      <td>56.000</td>\n",
       "      <td>2014-01-22</td>\n",
       "      <td>bu2B.</td>\n",
       "      <td>66.225873</td>\n",
       "    </tr>\n",
       "    <tr>\n",
       "      <th>1</th>\n",
       "      <td>1000047</td>\n",
       "      <td>02080200</td>\n",
       "      <td>WARFARIN 3MG TABLETS</td>\n",
       "      <td>56.000</td>\n",
       "      <td>2015-04-17</td>\n",
       "      <td>bs18.</td>\n",
       "      <td>67.457906</td>\n",
       "    </tr>\n",
       "    <tr>\n",
       "      <th>2</th>\n",
       "      <td>1000047</td>\n",
       "      <td>07040150</td>\n",
       "      <td>TAMSULOSIN 400MICROGRAM MODIFIED-RELEASE CAPSULES</td>\n",
       "      <td>28.000</td>\n",
       "      <td>2016-04-22</td>\n",
       "      <td>gc71.</td>\n",
       "      <td>68.473648</td>\n",
       "    </tr>\n",
       "    <tr>\n",
       "      <th>3</th>\n",
       "      <td>1000047</td>\n",
       "      <td>01030500</td>\n",
       "      <td>OMEPRAZOLE 20MG GASTRO-RESISTANT CAPSULES</td>\n",
       "      <td>112.000</td>\n",
       "      <td>2017-02-22</td>\n",
       "      <td>a6b1.</td>\n",
       "      <td>69.311431</td>\n",
       "    </tr>\n",
       "    <tr>\n",
       "      <th>4</th>\n",
       "      <td>1000047</td>\n",
       "      <td>02120400</td>\n",
       "      <td>SIMVASTATIN 40MG TABLETS</td>\n",
       "      <td>56.000</td>\n",
       "      <td>2016-09-14</td>\n",
       "      <td>bxd5.</td>\n",
       "      <td>68.870637</td>\n",
       "    </tr>\n",
       "  </tbody>\n",
       "</table>\n",
       "</div>"
      ],
      "text/plain": [
       "       eid  bnf_code                                          drug_name  \\\n",
       "0  1000047  02090000              ASPIRIN 75MG GASTRO-RESISTANT TABLETS   \n",
       "1  1000047  02080200                               WARFARIN 3MG TABLETS   \n",
       "2  1000047  07040150  TAMSULOSIN 400MICROGRAM MODIFIED-RELEASE CAPSULES   \n",
       "3  1000047  01030500          OMEPRAZOLE 20MG GASTRO-RESISTANT CAPSULES   \n",
       "4  1000047  02120400                           SIMVASTATIN 40MG TABLETS   \n",
       "\n",
       "  quantity issue_date read_2  AGE_AT_ENCOUNTER  \n",
       "0   56.000 2014-01-22  bu2B.         66.225873  \n",
       "1   56.000 2015-04-17  bs18.         67.457906  \n",
       "2   28.000 2016-04-22  gc71.         68.473648  \n",
       "3  112.000 2017-02-22  a6b1.         69.311431  \n",
       "4   56.000 2016-09-14  bxd5.         68.870637  "
      ]
     },
     "execution_count": 19,
     "metadata": {},
     "output_type": "execute_result"
    }
   ],
   "source": [
    "med.head()"
   ]
  },
  {
   "cell_type": "code",
   "execution_count": 49,
   "id": "938b20b4",
   "metadata": {},
   "outputs": [],
   "source": [
    "# enc = pd.concat([hesin_diag[['eid','epistart']].rename(columns={'epistart':'event_dt'}),\n",
    "#                     gp_clin[['eid','event_dt']],\n",
    "#                     med[['eid','issue_date']].rename(columns={'issue_date':'event_dt'})\n",
    "#                     ]\n",
    "                    # )\n",
    "enc.to_parquet('../tidy_data/encounters.parquet')      "
   ]
  },
  {
   "cell_type": "code",
   "execution_count": 24,
   "id": "e76fc96a",
   "metadata": {},
   "outputs": [],
   "source": [
    "nodup_enc = enc.drop_duplicates()"
   ]
  },
  {
   "cell_type": "code",
   "execution_count": 26,
   "id": "03720e9b",
   "metadata": {},
   "outputs": [],
   "source": [
    "eid_cnt = Counter(nodup_enc.eid)"
   ]
  },
  {
   "cell_type": "code",
   "execution_count": 32,
   "id": "0083f43f",
   "metadata": {},
   "outputs": [
    {
     "data": {
      "text/plain": [
       "468432"
      ]
     },
     "execution_count": 32,
     "metadata": {},
     "output_type": "execute_result"
    }
   ],
   "source": [
    "len(eid_cnt)"
   ]
  },
  {
   "cell_type": "code",
   "execution_count": 43,
   "id": "8fe6ff9c",
   "metadata": {},
   "outputs": [
    {
     "data": {
      "text/plain": [
       "331269"
      ]
     },
     "execution_count": 43,
     "metadata": {},
     "output_type": "execute_result"
    }
   ],
   "source": [
    "arr = np.array([x for x in eid_cnt.values()])\n",
    "sum(arr>5)"
   ]
  },
  {
   "cell_type": "code",
   "execution_count": 44,
   "id": "01b95b51",
   "metadata": {},
   "outputs": [
    {
     "data": {
      "text/plain": [
       "403796"
      ]
     },
     "execution_count": 44,
     "metadata": {},
     "output_type": "execute_result"
    }
   ],
   "source": [
    "arr = np.array([x for x in Counter(enc.eid).values()])\n",
    "sum(arr>5)"
   ]
  },
  {
   "cell_type": "code",
   "execution_count": 31,
   "id": "8f16c53a",
   "metadata": {},
   "outputs": [
    {
     "data": {
      "text/plain": [
       "(array([4.14335e+05, 4.65350e+04, 6.43900e+03, 9.15000e+02, 1.58000e+02,\n",
       "        3.30000e+01, 9.00000e+00, 4.00000e+00, 2.00000e+00, 2.00000e+00]),\n",
       " array([1.000e+00, 2.850e+02, 5.690e+02, 8.530e+02, 1.137e+03, 1.421e+03,\n",
       "        1.705e+03, 1.989e+03, 2.273e+03, 2.557e+03, 2.841e+03]),\n",
       " <BarContainer object of 10 artists>)"
      ]
     },
     "execution_count": 31,
     "metadata": {},
     "output_type": "execute_result"
    },
    {
     "data": {
      "image/png": "[encoded data removed]",
      "text/plain": [
       "<Figure size 432x288 with 1 Axes>"
      ]
     },
     "metadata": {
      "needs_background": "light"
     },
     "output_type": "display_data"
    }
   ],
   "source": [
    "plt.hist(eid_cnt.values(), bins=10, log=True)"
   ]
  },
  {
   "cell_type": "code",
   "execution_count": 45,
   "id": "9b91aea0",
   "metadata": {},
   "outputs": [],
   "source": [
    "ddd = pd.read_parquet('../tidy_data/encounters.parquet')"
   ]
  },
  {
   "cell_type": "code",
   "execution_count": 46,
   "id": "e39d832b",
   "metadata": {},
   "outputs": [
    {
     "data": {
      "text/plain": [
       "(126253257, 2)"
      ]
     },
     "execution_count": 46,
     "metadata": {},
     "output_type": "execute_result"
    }
   ],
   "source": [
    "ddd.shape"
   ]
  },
  {
   "cell_type": "code",
   "execution_count": 48,
   "id": "e41f9e65",
   "metadata": {},
   "outputs": [
    {
     "data": {
      "text/plain": [
       "336840"
      ]
     },
     "execution_count": 48,
     "metadata": {},
     "output_type": "execute_result"
    }
   ],
   "source": [
    "arr = np.array([x for x in Counter(ddd.eid).values()])\n",
    "sum(arr>5)"
   ]
  },
  {
   "attachments": {},
   "cell_type": "markdown",
   "id": "5c1a8109",
   "metadata": {},
   "source": [
    "### How do the UKB diagnoses compare in size to the MSHS ones?"
   ]
  },
  {
   "cell_type": "code",
   "execution_count": 4,
   "id": "183ca6c1",
   "metadata": {},
   "outputs": [],
   "source": [
    "# Export specific files for all diagnoses of interest\n",
    "ncd_icd = pd.read_parquet('../tidy_data/ncd_diagnoses.parquet')\n",
    "\n",
    "sud_icd = pd.read_parquet('../tidy_data/sud_diagnoses.parquet')\n",
    "\n",
    "oud_icd = pd.read_parquet('../tidy_data/oud_diagnoses.parquet')\n",
    "\n",
    "aud_icd = pd.read_parquet('../tidy_data/aud_diagnoses.parquet')\n",
    "\n",
    "tobacco_icd = pd.read_parquet('../tidy_data/tobacco_diagnoses.parquet')\n",
    "\n",
    "hiv_icd = pd.read_parquet('../tidy_data/hiv_diagnoses.parquet')\n",
    "\n",
    "sickle_icd = pd.read_parquet('../tidy_data/sickle_diagnoses.parquet')\n",
    "\n",
    "hepc_icd = pd.read_parquet('../tidy_data/hepc_diagnoses.parquet')\n"
   ]
  },
  {
   "cell_type": "code",
   "execution_count": 5,
   "id": "67e51a4b",
   "metadata": {},
   "outputs": [],
   "source": [
    "\n",
    "ms_ncd_icd = pd.read_parquet('../../MSDW1794_V3/tidy_data/ncd_diagnoses.parquet')\n",
    "\n",
    "ms_sud_icd = pd.read_parquet('../../MSDW1794_V3/tidy_data/sud_diagnoses.parquet')\n",
    "\n",
    "ms_oud_icd = pd.read_parquet('../../MSDW1794_V3/tidy_data/oud_diagnoses.parquet')\n",
    "\n",
    "ms_aud_icd = pd.read_parquet('../../MSDW1794_V3/tidy_data/aud_diagnoses.parquet')\n",
    "\n",
    "ms_tobacco_icd = pd.read_parquet('../../MSDW1794_V3/tidy_data/tobacco_diagnoses.parquet')\n",
    "\n",
    "ms_hiv_icd = pd.read_parquet('../../MSDW1794_V3/tidy_data/hiv_diagnoses.parquet')\n",
    "\n",
    "ms_sickle_icd = pd.read_parquet('../../MSDW1794_V3/tidy_data/sickle_diagnoses.parquet')\n",
    "\n",
    "ms_hepc_icd = pd.read_parquet('../../MSDW1794_V3/tidy_data/hepc_diagnoses.parquet')"
   ]
  },
  {
   "cell_type": "code",
   "execution_count": 6,
   "id": "fbaae86d",
   "metadata": {},
   "outputs": [],
   "source": [
    "opioid_med = pd.read_parquet('../tidy_data/opioid_med.parquet')\n",
    "ms_opioid_med = pd.read_parquet('../../MSDW1794_V3/tidy_data/opioid_med.parquet')\n",
    "ncd_med = pd.read_parquet('../tidy_data/ncd_med.parquet')\n",
    "ms_ncd_med = pd.read_parquet('../../MSDW1794_V3/tidy_data/ncd_med.parquet')"
   ]
  },
  {
   "cell_type": "code",
   "execution_count": 8,
   "id": "b6efd3da",
   "metadata": {},
   "outputs": [
    {
     "name": "stdout",
     "output_type": "stream",
     "text": [
      "ncd (54327, 6) (553567, 9) 10.18953743074346 \n",
      " sud (315620, 6) (1586300, 9) 5.025980609593815 \n",
      " oud (2494, 6) (173536, 9) 69.5813953488372 \n",
      " aud (57967, 6) (429572, 9) 7.4106301861403905 \n",
      " tobacco (220088, 6) (598453, 9) 2.7191532477917923 \n",
      " hiv (24025, 6) (1833501, 9) 76.31637877211239 \n",
      " sickle (3887, 6) (146719, 9) 37.746076665809106 \n",
      " hepc (6653, 6) (325921, 9) 48.98857658199309 \n",
      " opioid meds (1136618, 7) (5351574, 7) 4.708331207142593 \n",
      " ncd meds (30164, 7) (208685, 7) 6.918346373160058 \n",
      "\n"
     ]
    }
   ],
   "source": [
    "### OLD BEFORE I LEARNED I SHOULDN'T BE REMOVING DUPLICATES IN 03-harmonize_diagnoses\n",
    "\n",
    "print('ncd', ncd_icd.shape, ms_ncd_icd.shape,ms_ncd_icd.shape[0]/ncd_icd.shape[0],'\\n',\n",
    "        'sud', sud_icd.shape, ms_sud_icd.shape,ms_sud_icd.shape[0]/sud_icd.shape[0],'\\n',\n",
    "        'oud', oud_icd.shape, ms_oud_icd.shape,ms_oud_icd.shape[0]/oud_icd.shape[0],'\\n',\n",
    "        'aud', aud_icd.shape, ms_aud_icd.shape,ms_aud_icd.shape[0]/aud_icd.shape[0],'\\n',\n",
    "        'tobacco', tobacco_icd.shape, ms_tobacco_icd.shape,ms_tobacco_icd.shape[0]/tobacco_icd.shape[0],'\\n',\n",
    "        'hiv', hiv_icd.shape, ms_hiv_icd.shape,ms_hiv_icd.shape[0]/hiv_icd.shape[0],'\\n',\n",
    "        'sickle', sickle_icd.shape, ms_sickle_icd.shape,ms_sickle_icd.shape[0]/sickle_icd.shape[0],'\\n',\n",
    "        'hepc', hepc_icd.shape, ms_hepc_icd.shape,ms_hepc_icd.shape[0]/hepc_icd.shape[0],'\\n',\n",
    "        'opioid meds', opioid_med.shape, ms_opioid_med.shape,ms_opioid_med.shape[0]/opioid_med.shape[0],'\\n',\n",
    "        'ncd meds', ncd_med.shape, ms_ncd_med.shape,ms_ncd_med.shape[0]/ncd_med.shape[0],'\\n'\n",
    "        )\n",
    "\n",
    "        "
   ]
  },
  {
   "cell_type": "code",
   "execution_count": 10,
   "id": "738857d5",
   "metadata": {},
   "outputs": [
    {
     "name": "stdout",
     "output_type": "stream",
     "text": [
      "ncd (61909, 7) (553567, 9) 8.941623996511009 \n",
      " sud (352827, 7) (1586300, 9) 4.4959711133218265 \n",
      " oud (2822, 7) (173536, 9) 61.493975903614455 \n",
      " aud (62193, 7) (429572, 9) 6.90707957487177 \n",
      " tobacco (248407, 7) (598453, 9) 2.409163187832871 \n",
      " hiv (27744, 7) (1833501, 9) 66.08639705882354 \n",
      " sickle (3893, 7) (146719, 9) 37.68790136141793 \n",
      " hepc (7134, 7) (325921, 9) 45.685590131763384 \n",
      " opioid meds (1136618, 7) (5351574, 7) 4.708331207142593 \n",
      " ncd meds (30164, 7) (208685, 7) 6.918346373160058 \n",
      "\n"
     ]
    }
   ],
   "source": [
    "print('ncd', ncd_icd.shape, ms_ncd_icd.shape,ms_ncd_icd.shape[0]/ncd_icd.shape[0],'\\n',\n",
    "        'sud', sud_icd.shape, ms_sud_icd.shape,ms_sud_icd.shape[0]/sud_icd.shape[0],'\\n',\n",
    "        'oud', oud_icd.shape, ms_oud_icd.shape,ms_oud_icd.shape[0]/oud_icd.shape[0],'\\n',\n",
    "        'aud', aud_icd.shape, ms_aud_icd.shape,ms_aud_icd.shape[0]/aud_icd.shape[0],'\\n',\n",
    "        'tobacco', tobacco_icd.shape, ms_tobacco_icd.shape,ms_tobacco_icd.shape[0]/tobacco_icd.shape[0],'\\n',\n",
    "        'hiv', hiv_icd.shape, ms_hiv_icd.shape,ms_hiv_icd.shape[0]/hiv_icd.shape[0],'\\n',\n",
    "        'sickle', sickle_icd.shape, ms_sickle_icd.shape,ms_sickle_icd.shape[0]/sickle_icd.shape[0],'\\n',\n",
    "        'hepc', hepc_icd.shape, ms_hepc_icd.shape,ms_hepc_icd.shape[0]/hepc_icd.shape[0],'\\n',\n",
    "        'opioid meds', opioid_med.shape, ms_opioid_med.shape,ms_opioid_med.shape[0]/opioid_med.shape[0],'\\n',\n",
    "        'ncd meds', ncd_med.shape, ms_ncd_med.shape,ms_ncd_med.shape[0]/ncd_med.shape[0],'\\n'\n",
    "        )\n",
    "\n",
    "        "
   ]
  },
  {
   "cell_type": "code",
   "execution_count": 28,
   "id": "f8de2f8a",
   "metadata": {},
   "outputs": [
    {
     "data": {
      "text/plain": [
       "(array([1.25000e+02, 2.11300e+03, 1.25820e+04, 4.04240e+04, 1.05822e+05,\n",
       "        1.74183e+05, 2.32666e+05, 2.50269e+05, 1.73392e+05, 3.96500e+04]),\n",
       " array([20.1779603 , 26.11772758, 32.05749487, 37.99726215, 43.93702943,\n",
       "        49.87679671, 55.816564  , 61.75633128, 67.69609856, 73.63586585,\n",
       "        79.57563313]),\n",
       " <BarContainer object of 10 artists>)"
      ]
     },
     "execution_count": 28,
     "metadata": {},
     "output_type": "execute_result"
    },
    {
     "data": {
      "image/png": "[encoded data removed]",
      "text/plain": [
       "<Figure size 432x288 with 1 Axes>"
      ]
     },
     "metadata": {
      "needs_background": "light"
     },
     "output_type": "display_data"
    }
   ],
   "source": [
    "plt.hist(opioid_med.AGE_AT_ENCOUNTER)"
   ]
  },
  {
   "cell_type": "code",
   "execution_count": 6,
   "id": "e066c351",
   "metadata": {},
   "outputs": [
    {
     "data": {
      "text/plain": [
       "(array([8.0000e+00, 1.8000e+01, 5.3000e+01, 9.1000e+01, 1.8400e+02,\n",
       "        2.7700e+02, 1.3400e+03, 4.1510e+03, 1.1003e+04, 2.1009e+04]),\n",
       " array([ 7368. ,  8521.2,  9674.4, 10827.6, 11980.8, 13134. , 14287.2,\n",
       "        15440.4, 16593.6, 17746.8, 18900. ]),\n",
       " <BarContainer object of 10 artists>)"
      ]
     },
     "execution_count": 6,
     "metadata": {},
     "output_type": "execute_result"
    },
    {
     "data": {
      "image/png": "[encoded data removed]",
      "text/plain": [
       "<Figure size 432x288 with 1 Axes>"
      ]
     },
     "metadata": {
      "needs_background": "light"
     },
     "output_type": "display_data"
    }
   ],
   "source": [
    "plt.hist(ncd_icd.event_dt, log=True)"
   ]
  },
  {
   "cell_type": "code",
   "execution_count": 27,
   "id": "aadd4039",
   "metadata": {},
   "outputs": [
    {
     "data": {
      "text/plain": [
       "10    120935\n",
       "9       2289\n",
       "Name: icd_type, dtype: int64"
      ]
     },
     "execution_count": 27,
     "metadata": {},
     "output_type": "execute_result"
    }
   ],
   "source": [
    "sud_icd.icd_type.value_counts()"
   ]
  },
  {
   "cell_type": "code",
   "execution_count": 28,
   "id": "cd41d409",
   "metadata": {},
   "outputs": [],
   "source": [
    "icd = pd.read_parquet('../tidy_data/icd_data_all_dx.parquet')\n"
   ]
  },
  {
   "cell_type": "code",
   "execution_count": 33,
   "id": "033958d5",
   "metadata": {},
   "outputs": [
    {
     "data": {
      "text/plain": [
       "(array([   12.,    21.,    82.,   226.,   757.,  1608.,  3295.,  7484.,\n",
       "        10517.,  2986.]),\n",
       " array([40.71731691, 44.61738535, 48.5174538 , 52.41752225, 56.31759069,\n",
       "        60.21765914, 64.11772758, 68.01779603, 71.91786448, 75.81793292,\n",
       "        79.71800137]),\n",
       " <BarContainer object of 10 artists>)"
      ]
     },
     "execution_count": 33,
     "metadata": {},
     "output_type": "execute_result"
    },
    {
     "data": {
      "image/png": "[encoded data removed]",
      "text/plain": [
       "<Figure size 432x288 with 1 Axes>"
      ]
     },
     "metadata": {
      "needs_background": "light"
     },
     "output_type": "display_data"
    }
   ],
   "source": [
    "plt.hist(ncd_med.AGE_AT_ENCOUNTER)"
   ]
  },
  {
   "attachments": {},
   "cell_type": "markdown",
   "id": "06d5af98",
   "metadata": {},
   "source": [
    "### What years should be used for the UKB VoE? From histograms of diagnoses and meds, diagnoses end before 2020/1/1, and meds have some fraction of 2017. Let's end at 2017/1/1, and begin at 1990 and see what we get. Can always discard the first few years. Though, NCD diagnoses are low until the mid-2010s."
   ]
  },
  {
   "cell_type": "code",
   "execution_count": null,
   "id": "acc4bb98",
   "metadata": {},
   "outputs": [],
   "source": [
    "all_dx = pd.read_parquet('../tidy_data/icd_data_all_dx.parquet')\n",
    "med = pd.read_parquet('../tidy_data/med.parquet')"
   ]
  },
  {
   "cell_type": "code",
   "execution_count": null,
   "id": "c2ecdc04",
   "metadata": {},
   "outputs": [
    {
     "data": {
      "text/html": [
       "<div>\n",
       "<style scoped>\n",
       "    .dataframe tbody tr th:only-of-type {\n",
       "        vertical-align: middle;\n",
       "    }\n",
       "\n",
       "    .dataframe tbody tr th {\n",
       "        vertical-align: top;\n",
       "    }\n",
       "\n",
       "    .dataframe thead th {\n",
       "        text-align: right;\n",
       "    }\n",
       "</style>\n",
       "<table border=\"1\" class=\"dataframe\">\n",
       "  <thead>\n",
       "    <tr style=\"text-align: right;\">\n",
       "      <th></th>\n",
       "      <th>eid</th>\n",
       "      <th>event_dt</th>\n",
       "    </tr>\n",
       "  </thead>\n",
       "  <tbody>\n",
       "    <tr>\n",
       "      <th>0</th>\n",
       "      <td>1000047</td>\n",
       "      <td>2013-08-19</td>\n",
       "    </tr>\n",
       "    <tr>\n",
       "      <th>1</th>\n",
       "      <td>1000047</td>\n",
       "      <td>2013-11-04</td>\n",
       "    </tr>\n",
       "    <tr>\n",
       "      <th>2</th>\n",
       "      <td>1000047</td>\n",
       "      <td>2013-01-28</td>\n",
       "    </tr>\n",
       "    <tr>\n",
       "      <th>3</th>\n",
       "      <td>1000047</td>\n",
       "      <td>2015-07-08</td>\n",
       "    </tr>\n",
       "    <tr>\n",
       "      <th>4</th>\n",
       "      <td>1000047</td>\n",
       "      <td>2014-06-16</td>\n",
       "    </tr>\n",
       "  </tbody>\n",
       "</table>\n",
       "</div>"
      ],
      "text/plain": [
       "       eid   event_dt\n",
       "0  1000047 2013-08-19\n",
       "1  1000047 2013-11-04\n",
       "2  1000047 2013-01-28\n",
       "3  1000047 2015-07-08\n",
       "4  1000047 2014-06-16"
      ]
     },
     "execution_count": 34,
     "metadata": {},
     "output_type": "execute_result"
    }
   ],
   "source": [
    "encounters.head()"
   ]
  },
  {
   "cell_type": "code",
   "execution_count": 30,
   "id": "ce0baef8",
   "metadata": {},
   "outputs": [],
   "source": [
    "ncd_icd = pd.read_parquet('../tidy_data/ncd_diagnoses.parquet')"
   ]
  },
  {
   "cell_type": "code",
   "execution_count": 31,
   "id": "f419e040",
   "metadata": {},
   "outputs": [
    {
     "data": {
      "text/html": [
       "<div>\n",
       "<style scoped>\n",
       "    .dataframe tbody tr th:only-of-type {\n",
       "        vertical-align: middle;\n",
       "    }\n",
       "\n",
       "    .dataframe tbody tr th {\n",
       "        vertical-align: top;\n",
       "    }\n",
       "\n",
       "    .dataframe thead th {\n",
       "        text-align: right;\n",
       "    }\n",
       "</style>\n",
       "<table border=\"1\" class=\"dataframe\">\n",
       "  <thead>\n",
       "    <tr style=\"text-align: right;\">\n",
       "      <th></th>\n",
       "      <th>eid</th>\n",
       "      <th>event_dt</th>\n",
       "      <th>icd_code</th>\n",
       "      <th>DESCRIPTION</th>\n",
       "      <th>icd_type</th>\n",
       "      <th>AGE_AT_ENCOUNTER</th>\n",
       "    </tr>\n",
       "  </thead>\n",
       "  <tbody>\n",
       "    <tr>\n",
       "      <th>0</th>\n",
       "      <td>1806424</td>\n",
       "      <td>2017-01-16</td>\n",
       "      <td>290</td>\n",
       "      <td>SENILE AND PRESENILE ORGANIC PSYCHOTIC CONDITIONS</td>\n",
       "      <td>9</td>\n",
       "      <td>69.880903</td>\n",
       "    </tr>\n",
       "    <tr>\n",
       "      <th>1</th>\n",
       "      <td>2761295</td>\n",
       "      <td>2013-11-27</td>\n",
       "      <td>290</td>\n",
       "      <td>SENILE AND PRESENILE ORGANIC PSYCHOTIC CONDITIONS</td>\n",
       "      <td>9</td>\n",
       "      <td>74.491444</td>\n",
       "    </tr>\n",
       "    <tr>\n",
       "      <th>2</th>\n",
       "      <td>2809349</td>\n",
       "      <td>2013-04-16</td>\n",
       "      <td>290</td>\n",
       "      <td>SENILE AND PRESENILE ORGANIC PSYCHOTIC CONDITIONS</td>\n",
       "      <td>9</td>\n",
       "      <td>67.958932</td>\n",
       "    </tr>\n",
       "    <tr>\n",
       "      <th>3</th>\n",
       "      <td>2809349</td>\n",
       "      <td>2014-05-16</td>\n",
       "      <td>290</td>\n",
       "      <td>SENILE AND PRESENILE ORGANIC PSYCHOTIC CONDITIONS</td>\n",
       "      <td>9</td>\n",
       "      <td>69.040383</td>\n",
       "    </tr>\n",
       "    <tr>\n",
       "      <th>4</th>\n",
       "      <td>3159331</td>\n",
       "      <td>2014-09-19</td>\n",
       "      <td>290</td>\n",
       "      <td>SENILE AND PRESENILE ORGANIC PSYCHOTIC CONDITIONS</td>\n",
       "      <td>9</td>\n",
       "      <td>66.384668</td>\n",
       "    </tr>\n",
       "  </tbody>\n",
       "</table>\n",
       "</div>"
      ],
      "text/plain": [
       "       eid   event_dt icd_code  \\\n",
       "0  1806424 2017-01-16      290   \n",
       "1  2761295 2013-11-27      290   \n",
       "2  2809349 2013-04-16      290   \n",
       "3  2809349 2014-05-16      290   \n",
       "4  3159331 2014-09-19      290   \n",
       "\n",
       "                                         DESCRIPTION  icd_type  \\\n",
       "0  SENILE AND PRESENILE ORGANIC PSYCHOTIC CONDITIONS         9   \n",
       "1  SENILE AND PRESENILE ORGANIC PSYCHOTIC CONDITIONS         9   \n",
       "2  SENILE AND PRESENILE ORGANIC PSYCHOTIC CONDITIONS         9   \n",
       "3  SENILE AND PRESENILE ORGANIC PSYCHOTIC CONDITIONS         9   \n",
       "4  SENILE AND PRESENILE ORGANIC PSYCHOTIC CONDITIONS         9   \n",
       "\n",
       "   AGE_AT_ENCOUNTER  \n",
       "0         69.880903  \n",
       "1         74.491444  \n",
       "2         67.958932  \n",
       "3         69.040383  \n",
       "4         66.384668  "
      ]
     },
     "execution_count": 31,
     "metadata": {},
     "output_type": "execute_result"
    }
   ],
   "source": [
    "ncd_icd.head()"
   ]
  },
  {
   "cell_type": "code",
   "execution_count": 32,
   "id": "5a0b754f",
   "metadata": {},
   "outputs": [
    {
     "data": {
      "text/html": [
       "<div>\n",
       "<style scoped>\n",
       "    .dataframe tbody tr th:only-of-type {\n",
       "        vertical-align: middle;\n",
       "    }\n",
       "\n",
       "    .dataframe tbody tr th {\n",
       "        vertical-align: top;\n",
       "    }\n",
       "\n",
       "    .dataframe thead th {\n",
       "        text-align: right;\n",
       "    }\n",
       "</style>\n",
       "<table border=\"1\" class=\"dataframe\">\n",
       "  <thead>\n",
       "    <tr style=\"text-align: right;\">\n",
       "      <th></th>\n",
       "      <th>eid</th>\n",
       "      <th>bnf_code</th>\n",
       "      <th>drug_name</th>\n",
       "      <th>quantity</th>\n",
       "      <th>issue_date</th>\n",
       "      <th>read_2</th>\n",
       "      <th>AGE_AT_ENCOUNTER</th>\n",
       "      <th>dose</th>\n",
       "    </tr>\n",
       "  </thead>\n",
       "  <tbody>\n",
       "    <tr>\n",
       "      <th>128</th>\n",
       "      <td>1000047</td>\n",
       "      <td>04070200</td>\n",
       "      <td>TRAMADOL 50MG CAPSULES</td>\n",
       "      <td>30.000</td>\n",
       "      <td>2014-08-01</td>\n",
       "      <td>dji2.</td>\n",
       "      <td>66.748802</td>\n",
       "      <td>30.0</td>\n",
       "    </tr>\n",
       "    <tr>\n",
       "      <th>1363</th>\n",
       "      <td>1000910</td>\n",
       "      <td>04.07.02.00.00</td>\n",
       "      <td>CO-PROXAMOL 32.5MG/325MG TABLETS</td>\n",
       "      <td>60 tabs</td>\n",
       "      <td>2003-02-21</td>\n",
       "      <td>None</td>\n",
       "      <td>58.472279</td>\n",
       "      <td>60.0</td>\n",
       "    </tr>\n",
       "    <tr>\n",
       "      <th>1582</th>\n",
       "      <td>1000910</td>\n",
       "      <td>04.07.02.00.00</td>\n",
       "      <td>TRAMADOL 50MG CAPSULES</td>\n",
       "      <td>50 capsules</td>\n",
       "      <td>2011-07-11</td>\n",
       "      <td>None</td>\n",
       "      <td>66.855578</td>\n",
       "      <td>50.0</td>\n",
       "    </tr>\n",
       "    <tr>\n",
       "      <th>2476</th>\n",
       "      <td>1001695</td>\n",
       "      <td>04.07.02.00.00</td>\n",
       "      <td>CODEINE 15MG TABLETS</td>\n",
       "      <td>28 tablets</td>\n",
       "      <td>2013-10-25</td>\n",
       "      <td>None</td>\n",
       "      <td>63.813826</td>\n",
       "      <td>28.0</td>\n",
       "    </tr>\n",
       "    <tr>\n",
       "      <th>2606</th>\n",
       "      <td>1002056</td>\n",
       "      <td>04.07.02.00.00</td>\n",
       "      <td>CO-CODAMOL 30MG/500MG CAPSULES</td>\n",
       "      <td>50 capsule</td>\n",
       "      <td>2013-12-14</td>\n",
       "      <td>None</td>\n",
       "      <td>72.788501</td>\n",
       "      <td>50.0</td>\n",
       "    </tr>\n",
       "  </tbody>\n",
       "</table>\n",
       "</div>"
      ],
      "text/plain": [
       "          eid        bnf_code                         drug_name     quantity  \\\n",
       "128   1000047        04070200            TRAMADOL 50MG CAPSULES       30.000   \n",
       "1363  1000910  04.07.02.00.00  CO-PROXAMOL 32.5MG/325MG TABLETS      60 tabs   \n",
       "1582  1000910  04.07.02.00.00            TRAMADOL 50MG CAPSULES  50 capsules   \n",
       "2476  1001695  04.07.02.00.00              CODEINE 15MG TABLETS   28 tablets   \n",
       "2606  1002056  04.07.02.00.00    CO-CODAMOL 30MG/500MG CAPSULES   50 capsule   \n",
       "\n",
       "     issue_date read_2  AGE_AT_ENCOUNTER  dose  \n",
       "128  2014-08-01  dji2.         66.748802  30.0  \n",
       "1363 2003-02-21   None         58.472279  60.0  \n",
       "1582 2011-07-11   None         66.855578  50.0  \n",
       "2476 2013-10-25   None         63.813826  28.0  \n",
       "2606 2013-12-14   None         72.788501  50.0  "
      ]
     },
     "execution_count": 32,
     "metadata": {},
     "output_type": "execute_result"
    }
   ],
   "source": [
    "opioid_med.head()"
   ]
  },
  {
   "cell_type": "code",
   "execution_count": 70,
   "id": "e7c5fd89",
   "metadata": {},
   "outputs": [
    {
     "data": {
      "text/plain": [
       "<matplotlib.collections.LineCollection at 0x2b7558724898>"
      ]
     },
     "execution_count": 70,
     "metadata": {},
     "output_type": "execute_result"
    },
    {
     "data": {
      "image/png": "[encoded data removed]",
      "text/plain": [
       "<Figure size 432x288 with 1 Axes>"
      ]
     },
     "metadata": {
      "needs_background": "light"
     },
     "output_type": "display_data"
    }
   ],
   "source": [
    "plt.hist(all_dx['event_dt'], bins=np.arange(datetime(1990,1,1), datetime(2020,1,1), timedelta(days=365)));\n",
    "plt.vlines(datetime(2011,1,1), 0, 1000000, color='red')"
   ]
  },
  {
   "cell_type": "code",
   "execution_count": 73,
   "id": "535beb1c",
   "metadata": {},
   "outputs": [
    {
     "data": {
      "text/plain": [
       "<matplotlib.collections.LineCollection at 0x2b781a1e56d8>"
      ]
     },
     "execution_count": 73,
     "metadata": {},
     "output_type": "execute_result"
    },
    {
     "data": {
      "image/png": "[encoded data removed]",
      "text/plain": [
       "<Figure size 432x288 with 1 Axes>"
      ]
     },
     "metadata": {
      "needs_background": "light"
     },
     "output_type": "display_data"
    }
   ],
   "source": [
    "plt.hist(med['issue_date'], bins=np.arange(datetime(1990,1,1), datetime(2020,1,1), timedelta(days=365)));\n",
    "plt.vlines(datetime(2011,1,1), 0, 4000000, color='red')"
   ]
  },
  {
   "cell_type": "code",
   "execution_count": 51,
   "id": "7e3c7003",
   "metadata": {},
   "outputs": [
    {
     "data": {
      "text/plain": [
       "<matplotlib.collections.LineCollection at 0x2b751e9e0eb8>"
      ]
     },
     "execution_count": 51,
     "metadata": {},
     "output_type": "execute_result"
    },
    {
     "data": {
      "image/png": "[encoded data removed]",
      "text/plain": [
       "<Figure size 432x288 with 1 Axes>"
      ]
     },
     "metadata": {
      "needs_background": "light"
     },
     "output_type": "display_data"
    }
   ],
   "source": [
    "plt.hist(sud_icd['event_dt'], bins=np.arange(datetime(1990,1,1), datetime(2020,1,1), timedelta(days=365)));\n",
    "plt.vlines(datetime(2011,1,1), 0, 10000, color='red')"
   ]
  },
  {
   "cell_type": "code",
   "execution_count": 74,
   "id": "9232baa7",
   "metadata": {},
   "outputs": [],
   "source": [
    "opioid_med = pd.read_parquet('../tidy_data/opioid_med.parquet')"
   ]
  },
  {
   "cell_type": "code",
   "execution_count": 77,
   "id": "f2fdc909",
   "metadata": {},
   "outputs": [
    {
     "data": {
      "text/plain": [
       "<matplotlib.collections.LineCollection at 0x2b781b238320>"
      ]
     },
     "execution_count": 77,
     "metadata": {},
     "output_type": "execute_result"
    },
    {
     "data": {
      "image/png": "[encoded data removed]",
      "text/plain": [
       "<Figure size 432x288 with 1 Axes>"
      ]
     },
     "metadata": {
      "needs_background": "light"
     },
     "output_type": "display_data"
    }
   ],
   "source": [
    "plt.hist(opioid_med['issue_date'], bins=np.arange(datetime(1990,1,1), datetime(2020,1,1), timedelta(days=365)));\n",
    "plt.vlines(datetime(2011,1,1), 0, 100000, color='red')"
   ]
  },
  {
   "cell_type": "code",
   "execution_count": 53,
   "id": "0d52c0e8",
   "metadata": {},
   "outputs": [
    {
     "data": {
      "text/plain": [
       "<matplotlib.collections.LineCollection at 0x2adcbe8086d8>"
      ]
     },
     "execution_count": 53,
     "metadata": {},
     "output_type": "execute_result"
    },
    {
     "data": {
      "image/png": "[encoded data removed]",
      "text/plain": [
       "<Figure size 432x288 with 1 Axes>"
      ]
     },
     "metadata": {
      "needs_background": "light"
     },
     "output_type": "display_data"
    }
   ],
   "source": [
    "plt.hist(ncd_icd['event_dt'], bins=np.arange(datetime(1990,1,1), datetime(2020,1,1), timedelta(days=365)), log=True);\n",
    "plt.vlines(datetime(2011,1,1), 0, 3000, color='red')\n",
    "plt.hlines(100, datetime(1990,1,1), datetime(2020,1,1), color='red')"
   ]
  },
  {
   "cell_type": "code",
   "execution_count": 12,
   "id": "fee8c8b2",
   "metadata": {},
   "outputs": [],
   "source": [
    "bnf_fill.BNF_Paragraph_first6char = bnf_fill.BNF_Paragraph_first6char.str.lower()\n",
    "bnf_fill.drug_name = bnf_fill.drug_name.str.lower()"
   ]
  },
  {
   "cell_type": "code",
   "execution_count": 27,
   "id": "8503d246",
   "metadata": {},
   "outputs": [],
   "source": [
    "bnf_fill.to_parquet('../tidy_data/bnf_fill.parquet')"
   ]
  },
  {
   "cell_type": "code",
   "execution_count": 19,
   "id": "a482216a",
   "metadata": {},
   "outputs": [],
   "source": [
    "methadone = bnf_fill[bnf_fill.drug_name.str.contains('methadone')]"
   ]
  },
  {
   "cell_type": "code",
   "execution_count": 23,
   "id": "fcf4fcff",
   "metadata": {},
   "outputs": [
    {
     "name": "stdout",
     "output_type": "stream",
     "text": [
      "(3141, 9)\n"
     ]
    }
   ],
   "source": [
    "print(methadone.shape)"
   ]
  },
  {
   "cell_type": "code",
   "execution_count": 25,
   "id": "e77060c1",
   "metadata": {},
   "outputs": [
    {
     "data": {
      "text/html": [
       "<div>\n",
       "<style scoped>\n",
       "    .dataframe tbody tr th:only-of-type {\n",
       "        vertical-align: middle;\n",
       "    }\n",
       "\n",
       "    .dataframe tbody tr th {\n",
       "        vertical-align: top;\n",
       "    }\n",
       "\n",
       "    .dataframe thead th {\n",
       "        text-align: right;\n",
       "    }\n",
       "</style>\n",
       "<table border=\"1\" class=\"dataframe\">\n",
       "  <thead>\n",
       "    <tr style=\"text-align: right;\">\n",
       "      <th></th>\n",
       "      <th>eid</th>\n",
       "      <th>bnf_code</th>\n",
       "      <th>drug_name</th>\n",
       "      <th>quantity</th>\n",
       "      <th>issue_date</th>\n",
       "      <th>read_2</th>\n",
       "      <th>3rd_col</th>\n",
       "      <th>BNF_Paragraph_first5char</th>\n",
       "      <th>BNF_Paragraph_first6char</th>\n",
       "    </tr>\n",
       "  </thead>\n",
       "  <tbody>\n",
       "    <tr>\n",
       "      <th>949066</th>\n",
       "      <td>2059627</td>\n",
       "      <td>04070200</td>\n",
       "      <td>methadone 5mg tablets</td>\n",
       "      <td>420.000</td>\n",
       "      <td>2014-06-19</td>\n",
       "      <td>djcy.</td>\n",
       "      <td>04070200</td>\n",
       "      <td>['Non-Opioid Analgesics And Compound Prep' 'Op...</td>\n",
       "      <td>opioid analgesics</td>\n",
       "    </tr>\n",
       "    <tr>\n",
       "      <th>949141</th>\n",
       "      <td>2059627</td>\n",
       "      <td>04070200</td>\n",
       "      <td>methadone 5mg tablets</td>\n",
       "      <td>300.000</td>\n",
       "      <td>2013-05-16</td>\n",
       "      <td>djcy.</td>\n",
       "      <td>04070200</td>\n",
       "      <td>['Non-Opioid Analgesics And Compound Prep' 'Op...</td>\n",
       "      <td>opioid analgesics</td>\n",
       "    </tr>\n",
       "    <tr>\n",
       "      <th>949144</th>\n",
       "      <td>2059627</td>\n",
       "      <td>04070200</td>\n",
       "      <td>methadone 5mg tablets</td>\n",
       "      <td>420.000</td>\n",
       "      <td>2015-06-11</td>\n",
       "      <td>djcy.</td>\n",
       "      <td>04070200</td>\n",
       "      <td>['Non-Opioid Analgesics And Compound Prep' 'Op...</td>\n",
       "      <td>opioid analgesics</td>\n",
       "    </tr>\n",
       "    <tr>\n",
       "      <th>1357727</th>\n",
       "      <td>1117776</td>\n",
       "      <td>04.07.02.00.00</td>\n",
       "      <td>methadone 1mg/ml oral solution</td>\n",
       "      <td>1 pack of 100 mls</td>\n",
       "      <td>2012-05-24</td>\n",
       "      <td>None</td>\n",
       "      <td>0407020000</td>\n",
       "      <td>['Non-Opioid Analgesics And Compound Prep' 'Op...</td>\n",
       "      <td>opioid analgesics</td>\n",
       "    </tr>\n",
       "    <tr>\n",
       "      <th>1920945</th>\n",
       "      <td>1434812</td>\n",
       "      <td>04.07.02.00.00</td>\n",
       "      <td>methadone 1mg/ml oral solution</td>\n",
       "      <td>500 mls</td>\n",
       "      <td>2009-09-08</td>\n",
       "      <td>None</td>\n",
       "      <td>0407020000</td>\n",
       "      <td>['Non-Opioid Analgesics And Compound Prep' 'Op...</td>\n",
       "      <td>opioid analgesics</td>\n",
       "    </tr>\n",
       "    <tr>\n",
       "      <th>...</th>\n",
       "      <td>...</td>\n",
       "      <td>...</td>\n",
       "      <td>...</td>\n",
       "      <td>...</td>\n",
       "      <td>...</td>\n",
       "      <td>...</td>\n",
       "      <td>...</td>\n",
       "      <td>...</td>\n",
       "      <td>...</td>\n",
       "    </tr>\n",
       "    <tr>\n",
       "      <th>43342608</th>\n",
       "      <td>5763893</td>\n",
       "      <td>04.07.02.00.00</td>\n",
       "      <td>methadone 1mg/ml oral solution sugar free</td>\n",
       "      <td>105 ml</td>\n",
       "      <td>2016-05-19</td>\n",
       "      <td>None</td>\n",
       "      <td>0407020000</td>\n",
       "      <td>['Non-Opioid Analgesics And Compound Prep' 'Op...</td>\n",
       "      <td>opioid analgesics</td>\n",
       "    </tr>\n",
       "    <tr>\n",
       "      <th>43342611</th>\n",
       "      <td>5763893</td>\n",
       "      <td>04.07.02.00.00</td>\n",
       "      <td>methadone 1mg/ml oral solution sugar free</td>\n",
       "      <td>105 ml</td>\n",
       "      <td>2016-01-14</td>\n",
       "      <td>None</td>\n",
       "      <td>0407020000</td>\n",
       "      <td>['Non-Opioid Analgesics And Compound Prep' 'Op...</td>\n",
       "      <td>opioid analgesics</td>\n",
       "    </tr>\n",
       "    <tr>\n",
       "      <th>43342613</th>\n",
       "      <td>5763893</td>\n",
       "      <td>04.07.02.00.00</td>\n",
       "      <td>methadone 1mg/ml oral solution sugar free</td>\n",
       "      <td>105 ml</td>\n",
       "      <td>2016-03-24</td>\n",
       "      <td>None</td>\n",
       "      <td>0407020000</td>\n",
       "      <td>['Non-Opioid Analgesics And Compound Prep' 'Op...</td>\n",
       "      <td>opioid analgesics</td>\n",
       "    </tr>\n",
       "    <tr>\n",
       "      <th>43470352</th>\n",
       "      <td>5833964</td>\n",
       "      <td>04.07.02.00.00</td>\n",
       "      <td>methadone 1mg/ml oral solution sugar free</td>\n",
       "      <td>30 ml</td>\n",
       "      <td>2014-12-24</td>\n",
       "      <td>None</td>\n",
       "      <td>0407020000</td>\n",
       "      <td>['Non-Opioid Analgesics And Compound Prep' 'Op...</td>\n",
       "      <td>opioid analgesics</td>\n",
       "    </tr>\n",
       "    <tr>\n",
       "      <th>43488114</th>\n",
       "      <td>5845622</td>\n",
       "      <td>04.07.02.00.00</td>\n",
       "      <td>methadone 1mg/ml oral solution</td>\n",
       "      <td>1040 ml</td>\n",
       "      <td>2016-01-13</td>\n",
       "      <td>None</td>\n",
       "      <td>0407020000</td>\n",
       "      <td>['Non-Opioid Analgesics And Compound Prep' 'Op...</td>\n",
       "      <td>opioid analgesics</td>\n",
       "    </tr>\n",
       "  </tbody>\n",
       "</table>\n",
       "<p>3108 rows × 9 columns</p>\n",
       "</div>"
      ],
      "text/plain": [
       "              eid        bnf_code                                  drug_name  \\\n",
       "949066    2059627        04070200                      methadone 5mg tablets   \n",
       "949141    2059627        04070200                      methadone 5mg tablets   \n",
       "949144    2059627        04070200                      methadone 5mg tablets   \n",
       "1357727   1117776  04.07.02.00.00             methadone 1mg/ml oral solution   \n",
       "1920945   1434812  04.07.02.00.00             methadone 1mg/ml oral solution   \n",
       "...           ...             ...                                        ...   \n",
       "43342608  5763893  04.07.02.00.00  methadone 1mg/ml oral solution sugar free   \n",
       "43342611  5763893  04.07.02.00.00  methadone 1mg/ml oral solution sugar free   \n",
       "43342613  5763893  04.07.02.00.00  methadone 1mg/ml oral solution sugar free   \n",
       "43470352  5833964  04.07.02.00.00  methadone 1mg/ml oral solution sugar free   \n",
       "43488114  5845622  04.07.02.00.00             methadone 1mg/ml oral solution   \n",
       "\n",
       "                   quantity  issue_date read_2     3rd_col  \\\n",
       "949066              420.000  2014-06-19  djcy.    04070200   \n",
       "949141              300.000  2013-05-16  djcy.    04070200   \n",
       "949144              420.000  2015-06-11  djcy.    04070200   \n",
       "1357727   1 pack of 100 mls  2012-05-24   None  0407020000   \n",
       "1920945             500 mls  2009-09-08   None  0407020000   \n",
       "...                     ...         ...    ...         ...   \n",
       "43342608             105 ml  2016-05-19   None  0407020000   \n",
       "43342611             105 ml  2016-01-14   None  0407020000   \n",
       "43342613             105 ml  2016-03-24   None  0407020000   \n",
       "43470352              30 ml  2014-12-24   None  0407020000   \n",
       "43488114            1040 ml  2016-01-13   None  0407020000   \n",
       "\n",
       "                                   BNF_Paragraph_first5char  \\\n",
       "949066    ['Non-Opioid Analgesics And Compound Prep' 'Op...   \n",
       "949141    ['Non-Opioid Analgesics And Compound Prep' 'Op...   \n",
       "949144    ['Non-Opioid Analgesics And Compound Prep' 'Op...   \n",
       "1357727   ['Non-Opioid Analgesics And Compound Prep' 'Op...   \n",
       "1920945   ['Non-Opioid Analgesics And Compound Prep' 'Op...   \n",
       "...                                                     ...   \n",
       "43342608  ['Non-Opioid Analgesics And Compound Prep' 'Op...   \n",
       "43342611  ['Non-Opioid Analgesics And Compound Prep' 'Op...   \n",
       "43342613  ['Non-Opioid Analgesics And Compound Prep' 'Op...   \n",
       "43470352  ['Non-Opioid Analgesics And Compound Prep' 'Op...   \n",
       "43488114  ['Non-Opioid Analgesics And Compound Prep' 'Op...   \n",
       "\n",
       "         BNF_Paragraph_first6char  \n",
       "949066          opioid analgesics  \n",
       "949141          opioid analgesics  \n",
       "949144          opioid analgesics  \n",
       "1357727         opioid analgesics  \n",
       "1920945         opioid analgesics  \n",
       "...                           ...  \n",
       "43342608        opioid analgesics  \n",
       "43342611        opioid analgesics  \n",
       "43342613        opioid analgesics  \n",
       "43470352        opioid analgesics  \n",
       "43488114        opioid analgesics  \n",
       "\n",
       "[3108 rows x 9 columns]"
      ]
     },
     "execution_count": 25,
     "metadata": {},
     "output_type": "execute_result"
    }
   ],
   "source": [
    "methadone[methadone.BNF_Paragraph_first5char!='no results']"
   ]
  },
  {
   "cell_type": "code",
   "execution_count": 14,
   "id": "62c4e8ba",
   "metadata": {},
   "outputs": [],
   "source": [
    "'''\n",
    "manual data cleaning because some of the entries filled when using the first 5 but not the first 6 were:\n",
    "\"['Alcohol Dependence' 'Nicotine Dependence' 'Opioid Dependence']\"\n",
    "\"['Tricyclic & Related Antidepressant Drugs'\\n 'Monoamine-Oxidase Inhibitors (Maois)'\\n 'Selective Serotonin Re-Uptake Inhibitors' 'Other Antidepressant Drugs']\"\n",
    "'[\\'Dopaminergic Drugs Used In Parkinsonism\\'\\n \"Antimuscarinic Drugs Used In Parkin\\'ism\"\\n \\'Essentialtremor,Chorea,Tics&Reldisorders\\']'\n",
    "\"['Non-Opioid Analgesics And Compound Prep' 'Opioid Analgesics'\\n 'Neuropathic Pain' 'Antimigraine Drugs']\"\n",
    "'''\n",
    "\n",
    "fixing = bnf_fill[(bnf_fill.BNF_Paragraph_first5char.isin([\n",
    "\"['Alcohol Dependence' 'Nicotine Dependence' 'Opioid Dependence']\"\n",
    ",\"['Tricyclic & Related Antidepressant Drugs'\\n 'Monoamine-Oxidase Inhibitors (Maois)'\\n 'Selective Serotonin Re-Uptake Inhibitors' 'Other Antidepressant Drugs']\"\n",
    ",'[\\'Dopaminergic Drugs Used In Parkinsonism\\'\\n \"Antimuscarinic Drugs Used In Parkin\\'ism\"\\n \\'Essentialtremor,Chorea,Tics&Reldisorders\\']'\n",
    ",\"['Non-Opioid Analgesics And Compound Prep' 'Opioid Analgesics'\\n 'Neuropathic Pain' 'Antimigraine Drugs']\"])) \\\n",
    "                 & (bnf_fill.BNF_Paragraph_first6char=='no results')]"
   ]
  },
  {
   "cell_type": "code",
   "execution_count": 15,
   "id": "a607bce7",
   "metadata": {},
   "outputs": [
    {
     "name": "stderr",
     "output_type": "stream",
     "text": [
      "/hpc/packages/minerva-centos7/py_packages/3.7/lib/python3.7/site-packages/pandas/core/indexing.py:1817: SettingWithCopyWarning: \n",
      "A value is trying to be set on a copy of a slice from a DataFrame.\n",
      "Try using .loc[row_indexer,col_indexer] = value instead\n",
      "\n",
      "See the caveats in the documentation: https://pandas.pydata.org/pandas-docs/stable/user_guide/indexing.html#returning-a-view-versus-a-copy\n",
      "  self._setitem_single_column(loc, value, pi)\n"
     ]
    }
   ],
   "source": [
    "oud = ['methadone','naltrexone']\n",
    "aud = ['disulfiram', 'acamprosate']\n",
    "fixing.loc[fixing.drug_name.str.contains('|'.join(oud)), 'BNF_Paragraph_first6char'] = 'opioid_dependence'\n",
    "fixing.loc[fixing.drug_name.str.contains('|'.join(aud)), 'BNF_Paragraph_first6char'] = 'alcohol_dependence'"
   ]
  },
  {
   "cell_type": "code",
   "execution_count": 16,
   "id": "c8474b25",
   "metadata": {},
   "outputs": [],
   "source": [
    "fixing = fixing[(fixing.BNF_Paragraph_first5char.isin([\n",
    "\"['Alcohol Dependence' 'Nicotine Dependence' 'Opioid Dependence']\"\n",
    ",\"['Tricyclic & Related Antidepressant Drugs'\\n 'Monoamine-Oxidase Inhibitors (Maois)'\\n 'Selective Serotonin Re-Uptake Inhibitors' 'Other Antidepressant Drugs']\"\n",
    ",'[\\'Dopaminergic Drugs Used In Parkinsonism\\'\\n \"Antimuscarinic Drugs Used In Parkin\\'ism\"\\n \\'Essentialtremor,Chorea,Tics&Reldisorders\\']'\n",
    ",\"['Non-Opioid Analgesics And Compound Prep' 'Opioid Analgesics'\\n 'Neuropathic Pain' 'Antimigraine Drugs']\"])) \\\n",
    "                 & (fixing.BNF_Paragraph_first6char=='no results')]"
   ]
  },
  {
   "cell_type": "code",
   "execution_count": 46,
   "id": "0e5a104d",
   "metadata": {},
   "outputs": [],
   "source": [
    "bnf_fill.loc[(bnf_fill.BNF_Paragraph_first6char.str.contains('opioid')) & \n",
    "         (bnf_fill.BNF_Paragraph_first6char.str.contains('alcohol')), 'BNF_Paragraph_first6char'] = 'nicotine dependence'"
   ]
  },
  {
   "cell_type": "code",
   "execution_count": 17,
   "id": "44f649d5",
   "metadata": {},
   "outputs": [
    {
     "data": {
      "text/plain": [
       "[('pregabalin 300mg capsules', 192),\n",
       " ('pregabalin 150mg capsules', 178),\n",
       " ('pregabalin 75mg capsules', 156),\n",
       " ('nicorette inhalator inhalation cartridge plus mouthpiece refill pack  10mg',\n",
       "  113),\n",
       " ('pregabalin 50mg capsules', 69),\n",
       " ('pregabalin 200mg capsules', 48),\n",
       " ('ropinirole 1mg tablets', 48),\n",
       " ('nicotine  inhalation cartridge with mouthpiece (refill)  10 mg/cartridge',\n",
       "  36),\n",
       " ('pregabalin 25mg capsules', 35),\n",
       " ('antabuse 200  tablets  200 mg', 23),\n",
       " ('pregabalin 100mg capsules', 22),\n",
       " ('ropinirole 5mg tablets', 22),\n",
       " ('ropinirole 2mg tablets', 21),\n",
       " ('rasagiline 1mg tablets', 18),\n",
       " ('lyrica 300mg capsules (pfizer ltd)', 16),\n",
       " ('nicorette inhalator  inhalation cartridge with mouthpiece (refill)  10 mg/cartridge',\n",
       "  13),\n",
       " ('pramipexole 88microgram tablets', 11),\n",
       " ('requip xl 8mg tablets (glaxosmithkline uk ltd)', 10),\n",
       " ('entacapone 200mg tablets', 8),\n",
       " ('selegiline 5mg tablets', 4),\n",
       " ('pregabalin caps 75mg', 2),\n",
       " ('pramipexole 700microgram tablets', 2),\n",
       " ('pramipexole 180microgram tablets', 2),\n",
       " ('ropinirole 8mg modified-release tablets', 2),\n",
       " ('requip xl pro rel tab 2mg', 2),\n",
       " ('requip xl 4mg tablets (glaxosmithkline uk ltd)', 1),\n",
       " ('anadin extra tablets (pfizer consumer healthcare ltd)', 1),\n",
       " ('pregabalin caps 150mg', 1),\n",
       " ('pramipexole 3.15mg modified-release tablets', 1),\n",
       " ('requip xl pro rel tab 4mg', 1),\n",
       " ('campral ec tabs 333mg', 1),\n",
       " ('antabuse tablets 200mg', 1)]"
      ]
     },
     "execution_count": 17,
     "metadata": {},
     "output_type": "execute_result"
    }
   ],
   "source": [
    "Counter(fixing.drug_name).most_common()"
   ]
  },
  {
   "cell_type": "code",
   "execution_count": 53,
   "id": "721f0988",
   "metadata": {},
   "outputs": [
    {
     "data": {
      "text/plain": [
       "(602554, 0.013769360728394004)"
      ]
     },
     "execution_count": 53,
     "metadata": {},
     "output_type": "execute_result"
    }
   ],
   "source": [
    "sum(bnf_fill.BNF_Paragraph=='no results'), \\\n",
    "sum(bnf_fill.BNF_Paragraph=='no results')/bnf_fill.shape[0]"
   ]
  },
  {
   "cell_type": "code",
   "execution_count": 17,
   "id": "cb6c3fd8",
   "metadata": {},
   "outputs": [
    {
     "data": {
      "text/plain": [
       "(703536, 0.016076967324773223)"
      ]
     },
     "execution_count": 17,
     "metadata": {},
     "output_type": "execute_result"
    }
   ],
   "source": [
    "sum(bnf_fill.BNF_Paragraph_first5char=='no results'), \\\n",
    "sum(bnf_fill.BNF_Paragraph_first5char=='no results')/bnf_fill.shape[0]"
   ]
  },
  {
   "cell_type": "code",
   "execution_count": 13,
   "id": "7f18ea20",
   "metadata": {},
   "outputs": [
    {
     "data": {
      "text/plain": [
       "(7231090, 0.16524242917561346)"
      ]
     },
     "execution_count": 13,
     "metadata": {},
     "output_type": "execute_result"
    }
   ],
   "source": [
    "sum(bnf_fill.BNF_Paragraph_first6char=='no results'), \\\n",
    "sum(bnf_fill.BNF_Paragraph_first6char=='no results')/bnf_fill.shape[0]"
   ]
  },
  {
   "cell_type": "code",
   "execution_count": 20,
   "id": "634577dc",
   "metadata": {},
   "outputs": [
    {
     "data": {
      "text/plain": [
       "(6527554, 9)"
      ]
     },
     "execution_count": 20,
     "metadata": {},
     "output_type": "execute_result"
    }
   ],
   "source": [
    "bnf_fill[(bnf_fill.BNF_Paragraph_first5char!='no results') & \\\n",
    "         (bnf_fill.BNF_Paragraph_first6char=='no results')].shape"
   ]
  },
  {
   "cell_type": "code",
   "execution_count": 24,
   "id": "1a590160",
   "metadata": {},
   "outputs": [
    {
     "data": {
      "text/plain": [
       "0.9887409587113335"
      ]
     },
     "execution_count": 24,
     "metadata": {},
     "output_type": "execute_result"
    }
   ],
   "source": [
    "(3214151+1493628+517714+300578+217808+208178+205361+203102+50594+42946)/bnf_fill[(bnf_fill.BNF_Paragraph_first5char!='no results') & \\\n",
    "         (bnf_fill.BNF_Paragraph_first6char=='no results')].shape[0]"
   ]
  },
  {
   "cell_type": "code",
   "execution_count": 19,
   "id": "bca5fb14",
   "metadata": {},
   "outputs": [
    {
     "data": {
      "text/plain": [
       "[('Lipid-Regulating Drugs', 3214151),\n",
       " ('Antiplatelet Drugs', 1493628),\n",
       " ('Topical Corticosteroids', 517714),\n",
       " ('Treatment Of Glaucoma', 300578),\n",
       " ('Antispasmod.&Other Drgs Alt.Gut Motility', 217808),\n",
       " (\"['Foods For Special Diets' 'Enteral Nutrition']\", 208178),\n",
       " ('Vaccines And Antisera', 205361),\n",
       " ('Drugs Used In Nausea And Vertigo', 203102),\n",
       " ('Shampoo&Other Preps For Scalp&Hair Cond', 50594),\n",
       " (\"['Adrenoceptor Agonists' 'Antimuscarinic Bronchodilators' 'Theophylline'\\n 'Compound Bronchodilator Preparations']\",\n",
       "  42946),\n",
       " (\"['Test for Helicobacter Pylori' 'H2-Receptor Antagonists'\\n 'Selective Antimuscarinics' 'Chelates And Complexes'\\n 'Prostaglandin Analogues' 'Proton Pump Inhibitors'\\n 'Other Antisec Drugs+Mucosal Protectants']\",\n",
       "  27948),\n",
       " (\"['DUMMY PARAGRAPH 210101' 'DUMMY PARAGRAPH 210102'\\n 'DUMMY PARAGRAPH 210103' 'DUMMY PARAGRAPH 210104'\\n 'DUMMY PARAGRAPH 210105' 'DUMMY PARAGRAPH 210106'\\n 'DUMMY PARAGRAPH 210108' 'DUMMY PARAGRAPH 210109']\",\n",
       "  11814),\n",
       " (\"['Antacids and Simeticone' 'Compound Alginates&Prop Indigestion Prep']\",\n",
       "  6985),\n",
       " (\"['Medicated Stockings' 'Surgical Adhesive Removers'\\n 'Gel And Colloid Dressings']\",\n",
       "  5454),\n",
       " (\"['Cromoglycate and Related Therapy' 'Leukotriene Receptor Antagonists'\\n 'Phosphodiesterase Type-4 Inhibitors']\",\n",
       "  5232),\n",
       " (\"['Local Anaesthetics' 'Adjuncts To Intractable Pain Spasticity']\", 2556),\n",
       " ('Management of Skin Conditions', 2451),\n",
       " (\"['Thiazides And Related Diuretics' 'Loop Diuretics'\\n 'Pot-Sparing Diuretics&Aldosterone Antag'\\n 'Potassium Sparing Diuretics & Compounds' 'Osmotic Diuretics'\\n 'Diuretics With Potassium']\",\n",
       "  2239),\n",
       " (\"['Combined Hormonal Contraceptives/Systems'\\n 'Progestogen-only Contraceptives' 'Spermicidal Contraceptives'\\n 'Emergency Contraception']\",\n",
       "  2006),\n",
       " (\"['Alcohol Dependence' 'Nicotine Dependence' 'Opioid Dependence']\", 1654),\n",
       " ('DUMMY PARAGRAPH 210200', 1191),\n",
       " (\"['Insulin' 'Drugs For Threadworms' 'Antidiabetic Drugs'\\n 'Treatment Of Hypoglycaemia' 'Diabetic Nephropathy & Neuropathy'\\n 'Diabetic Diagnostic & Monitoring Agents']\",\n",
       "  917),\n",
       " (\"['Tricyclic & Related Antidepressant Drugs'\\n 'Monoamine-Oxidase Inhibitors (Maois)'\\n 'Selective Serotonin Re-Uptake Inhibitors' 'Other Antidepressant Drugs']\",\n",
       "  719),\n",
       " ('Oxygen', 593),\n",
       " (\"['Chronic Bowel Disorders' 'Aminosalicylates' 'Corticosteroids'\\n 'Drugs Affecting Immune Response' 'Food Allergy']\",\n",
       "  591),\n",
       " ('[\\'Soothing Haemorrhoidal Preparations\\'\\n \"Co Haemorrhoidal Prep\\'s + Corticosteroid\" \\'Rectal Sclerosants\\'\\n \\'Management of Anal Fissures\\']',\n",
       "  202),\n",
       " ('[\\'Dopaminergic Drugs Used In Parkinsonism\\'\\n \"Antimuscarinic Drugs Used In Parkin\\'ism\"\\n \\'Essentialtremor,Chorea,Tics&Reldisorders\\']',\n",
       "  153),\n",
       " (\"['Bulk-Forming Laxatives' 'Stimulant Laxatives' 'Faecal Softeners'\\n 'Osmotic Laxatives' 'Bowel Cleansing Preparations'\\n 'Peripheral Opioid-Receptor Antagonists'\\n 'Other Drugs Used In Constipation']\",\n",
       "  133),\n",
       " (\"['Control Of Epilepsy' 'Drugs Used In Status Epilepticus']\", 119),\n",
       " ('Mydriatics And Cycloplegics', 95),\n",
       " ('Preparations For Warts And Calluses', 94),\n",
       " (\"['Tear Deficiency,Eye Lubricant/Astringent'\\n 'Ocular Diagnos/Peri-op Prepn&Photodyn Tt' 'Other Eye Preparations'\\n 'Preparations for Cataracts']\",\n",
       "  69),\n",
       " (\"['Intravenous Anaesthetics' 'Inhalational Anaesthetics'\\n 'Antimuscarinic Drugs' 'Sedative & Analgesic Peri-Operative Drgs'\\n 'Neuromuscular Blocking Drugs' 'Anticholinesterases Used in Anaesthesia'\\n 'Antagonists for Respiratory Depression'\\n 'Drugs for Malignant Hyperthermia']\",\n",
       "  60),\n",
       " (\"['Drugs Used In Nasal Allergy' 'Topical Nasal Decongestants'\\n 'Nasal Prepn for Infection']\",\n",
       "  30),\n",
       " (\"['DUMMY PARAGRAPH 225020' 'DUMMY PARAGRAPH 225024'\\n 'DUMMY PARAGRAPH 225026' 'DUMMY PARAGRAPH 225029']\",\n",
       "  29),\n",
       " (\"['DUMMY PARAGRAPH 234501' 'DUMMY PARAGRAPH 234504'\\n 'DUMMY PARAGRAPH 234506' 'DUMMY PARAGRAPH 234507'\\n 'DUMMY PARAGRAPH 234509']\",\n",
       "  28),\n",
       " (\"['DUMMY PARAGRAPH 226020' 'DUMMY PARAGRAPH 226021'\\n 'DUMMY PARAGRAPH 226024' 'DUMMY PARAGRAPH 226026'\\n 'DUMMY PARAGRAPH 226029']\",\n",
       "  27),\n",
       " (\"['DUMMY PARAGRAPH 223010' 'DUMMY PARAGRAPH 223012'\\n 'DUMMY PARAGRAPH 223017' 'DUMMY PARAGRAPH 223019']\",\n",
       "  16),\n",
       " (\"['Preparations For Vaginal/Vulval Changes' 'Vaginal and Vulval Infections']\",\n",
       "  15),\n",
       " (\"['Alcohols & Saline' 'Chlorhexidine Salts' 'Cationic Surfactants & Soaps'\\n 'Chlorine & Iodine' 'Phenolics' 'Oxidisers & Dyes' 'Desloughing Agents']\",\n",
       "  15),\n",
       " ('DUMMY PARAGRAPH 201000', 11),\n",
       " ('DUMMY PARAGRAPH 201100', 8),\n",
       " (\"['Emollients' 'Barrier Preparations' 'Dusting-Powders']\", 6),\n",
       " (\"['Individually Formulated Preps-Bought In'\\n 'Individ Formulated Preps-Prepared Extemp' 'Homeopathic Preparations'\\n 'Household & Other Over The Counter Lines' 'Poisoning Antidotes']\",\n",
       "  6),\n",
       " (\"['Inotropic Sympathomimetics' 'Vasoconstrictor Sympathomimetics'\\n 'Cardiopulmonary Resuscitation']\",\n",
       "  5),\n",
       " (\"['DUMMY PARAGRAPH 228020' 'DUMMY PARAGRAPH 228023'\\n 'DUMMY PARAGRAPH 228024' 'DUMMY PARAGRAPH 228029']\",\n",
       "  4),\n",
       " ('Contact Lenses', 4),\n",
       " ('Antifibrotics', 4),\n",
       " (\"['Antimalarials' 'Amoebicides' 'Trichomonacides' 'Antigiardial Drugs'\\n 'Leishmaniacides' 'Trypanocides' 'Drugs For Pneumocystis Pneumonia']\",\n",
       "  3),\n",
       " (\"['Sunscreening Preparations' 'Camouflagers']\", 2),\n",
       " (\"['DUMMY PARAGRAPH 200401' 'DUMMY PARAGRAPH 200402'\\n 'DUMMY PARAGRAPH 200403']\",\n",
       "  2),\n",
       " ('Drugs For  Arrhythmias', 2),\n",
       " (\"['Non-Opioid Analgesics And Compound Prep' 'Opioid Analgesics'\\n 'Neuropathic Pain' 'Antimigraine Drugs']\",\n",
       "  1),\n",
       " (\"['DUMMY PARAGRAPH 200201' 'DUMMY PARAGRAPH 200202']\", 1)]"
      ]
     },
     "execution_count": 19,
     "metadata": {},
     "output_type": "execute_result"
    }
   ],
   "source": [
    "# lipid-regulating: 3214151; antiplatelet: 1493628; topical corticosteroids: 517714, glaucoma: 300578\n",
    "Counter(bnf_fill[(bnf_fill.BNF_Paragraph_first5char!='no results') &\\\n",
    "        (bnf_fill.BNF_Paragraph_first6char=='no results')].BNF_Paragraph_first5char).most_common()"
   ]
  },
  {
   "cell_type": "code",
   "execution_count": 40,
   "id": "de350a1c",
   "metadata": {},
   "outputs": [],
   "source": [
    "value_lens_first4char = [len(x) for x in bnf_paragraph_bnf_fill.values()]"
   ]
  },
  {
   "cell_type": "code",
   "execution_count": 49,
   "id": "837fbd85",
   "metadata": {},
   "outputs": [],
   "source": [
    "value_lens_first5char = [len(x) for x in bnf_paragraph_bnf_fill.values()]"
   ]
  },
  {
   "cell_type": "code",
   "execution_count": 63,
   "id": "bcc6a416",
   "metadata": {},
   "outputs": [],
   "source": [
    "value_lens_first6char = [len(x) for x in bnf_paragraph_bnf_fill.values()]"
   ]
  },
  {
   "cell_type": "code",
   "execution_count": 52,
   "id": "38fd7605",
   "metadata": {},
   "outputs": [],
   "source": [
    "med = pd.read_parquet('../tidy_data/med.parquet')"
   ]
  },
  {
   "cell_type": "code",
   "execution_count": 53,
   "id": "eeba05f1",
   "metadata": {},
   "outputs": [
    {
     "data": {
      "text/html": [
       "<div>\n",
       "<style scoped>\n",
       "    .dataframe tbody tr th:only-of-type {\n",
       "        vertical-align: middle;\n",
       "    }\n",
       "\n",
       "    .dataframe tbody tr th {\n",
       "        vertical-align: top;\n",
       "    }\n",
       "\n",
       "    .dataframe thead th {\n",
       "        text-align: right;\n",
       "    }\n",
       "</style>\n",
       "<table border=\"1\" class=\"dataframe\">\n",
       "  <thead>\n",
       "    <tr style=\"text-align: right;\">\n",
       "      <th></th>\n",
       "      <th>eid</th>\n",
       "      <th>bnf_code</th>\n",
       "      <th>drug_name</th>\n",
       "      <th>quantity</th>\n",
       "      <th>issue_date</th>\n",
       "      <th>read_2</th>\n",
       "      <th>AGE_AT_ENCOUNTER</th>\n",
       "    </tr>\n",
       "  </thead>\n",
       "  <tbody>\n",
       "    <tr>\n",
       "      <th>0</th>\n",
       "      <td>1000047</td>\n",
       "      <td>02090000</td>\n",
       "      <td>ASPIRIN 75MG GASTRO-RESISTANT TABLETS</td>\n",
       "      <td>56.000</td>\n",
       "      <td>2014-01-22</td>\n",
       "      <td>bu2B.</td>\n",
       "      <td>66.225873</td>\n",
       "    </tr>\n",
       "    <tr>\n",
       "      <th>1</th>\n",
       "      <td>1000047</td>\n",
       "      <td>02080200</td>\n",
       "      <td>WARFARIN 3MG TABLETS</td>\n",
       "      <td>56.000</td>\n",
       "      <td>2015-04-17</td>\n",
       "      <td>bs18.</td>\n",
       "      <td>67.457906</td>\n",
       "    </tr>\n",
       "    <tr>\n",
       "      <th>2</th>\n",
       "      <td>1000047</td>\n",
       "      <td>07040150</td>\n",
       "      <td>TAMSULOSIN 400MICROGRAM MODIFIED-RELEASE CAPSULES</td>\n",
       "      <td>28.000</td>\n",
       "      <td>2016-04-22</td>\n",
       "      <td>gc71.</td>\n",
       "      <td>68.473648</td>\n",
       "    </tr>\n",
       "    <tr>\n",
       "      <th>3</th>\n",
       "      <td>1000047</td>\n",
       "      <td>01030500</td>\n",
       "      <td>OMEPRAZOLE 20MG GASTRO-RESISTANT CAPSULES</td>\n",
       "      <td>112.000</td>\n",
       "      <td>2017-02-22</td>\n",
       "      <td>a6b1.</td>\n",
       "      <td>69.311431</td>\n",
       "    </tr>\n",
       "    <tr>\n",
       "      <th>4</th>\n",
       "      <td>1000047</td>\n",
       "      <td>02120400</td>\n",
       "      <td>SIMVASTATIN 40MG TABLETS</td>\n",
       "      <td>56.000</td>\n",
       "      <td>2016-09-14</td>\n",
       "      <td>bxd5.</td>\n",
       "      <td>68.870637</td>\n",
       "    </tr>\n",
       "  </tbody>\n",
       "</table>\n",
       "</div>"
      ],
      "text/plain": [
       "       eid  bnf_code                                          drug_name  \\\n",
       "0  1000047  02090000              ASPIRIN 75MG GASTRO-RESISTANT TABLETS   \n",
       "1  1000047  02080200                               WARFARIN 3MG TABLETS   \n",
       "2  1000047  07040150  TAMSULOSIN 400MICROGRAM MODIFIED-RELEASE CAPSULES   \n",
       "3  1000047  01030500          OMEPRAZOLE 20MG GASTRO-RESISTANT CAPSULES   \n",
       "4  1000047  02120400                           SIMVASTATIN 40MG TABLETS   \n",
       "\n",
       "  quantity issue_date read_2  AGE_AT_ENCOUNTER  \n",
       "0   56.000 2014-01-22  bu2B.         66.225873  \n",
       "1   56.000 2015-04-17  bs18.         67.457906  \n",
       "2   28.000 2016-04-22  gc71.         68.473648  \n",
       "3  112.000 2017-02-22  a6b1.         69.311431  \n",
       "4   56.000 2016-09-14  bxd5.         68.870637  "
      ]
     },
     "execution_count": 53,
     "metadata": {},
     "output_type": "execute_result"
    }
   ],
   "source": [
    "med.head()"
   ]
  },
  {
   "cell_type": "code",
   "execution_count": 58,
   "id": "7eeb9245",
   "metadata": {},
   "outputs": [
    {
     "data": {
      "image/png": "[encoded data removed]",
      "text/plain": [
       "<Figure size 432x288 with 1 Axes>"
      ]
     },
     "metadata": {
      "needs_background": "light"
     },
     "output_type": "display_data"
    }
   ],
   "source": [
    "n,bins,patches = plt.hist(med.issue_date.dt.year, log=True, bins=np.arange(1990,2024,1))"
   ]
  },
  {
   "cell_type": "code",
   "execution_count": 59,
   "id": "c35eaf45",
   "metadata": {},
   "outputs": [
    {
     "data": {
      "text/html": [
       "<div>\n",
       "<style scoped>\n",
       "    .dataframe tbody tr th:only-of-type {\n",
       "        vertical-align: middle;\n",
       "    }\n",
       "\n",
       "    .dataframe tbody tr th {\n",
       "        vertical-align: top;\n",
       "    }\n",
       "\n",
       "    .dataframe thead th {\n",
       "        text-align: right;\n",
       "    }\n",
       "</style>\n",
       "<table border=\"1\" class=\"dataframe\">\n",
       "  <thead>\n",
       "    <tr style=\"text-align: right;\">\n",
       "      <th></th>\n",
       "      <th>n</th>\n",
       "      <th>bins</th>\n",
       "    </tr>\n",
       "  </thead>\n",
       "  <tbody>\n",
       "    <tr>\n",
       "      <th>0</th>\n",
       "      <td>56486.0</td>\n",
       "      <td>1991</td>\n",
       "    </tr>\n",
       "    <tr>\n",
       "      <th>1</th>\n",
       "      <td>96167.0</td>\n",
       "      <td>1992</td>\n",
       "    </tr>\n",
       "    <tr>\n",
       "      <th>2</th>\n",
       "      <td>134027.0</td>\n",
       "      <td>1993</td>\n",
       "    </tr>\n",
       "    <tr>\n",
       "      <th>3</th>\n",
       "      <td>180203.0</td>\n",
       "      <td>1994</td>\n",
       "    </tr>\n",
       "    <tr>\n",
       "      <th>4</th>\n",
       "      <td>228511.0</td>\n",
       "      <td>1995</td>\n",
       "    </tr>\n",
       "    <tr>\n",
       "      <th>5</th>\n",
       "      <td>282345.0</td>\n",
       "      <td>1996</td>\n",
       "    </tr>\n",
       "    <tr>\n",
       "      <th>6</th>\n",
       "      <td>364499.0</td>\n",
       "      <td>1997</td>\n",
       "    </tr>\n",
       "    <tr>\n",
       "      <th>7</th>\n",
       "      <td>454846.0</td>\n",
       "      <td>1998</td>\n",
       "    </tr>\n",
       "    <tr>\n",
       "      <th>8</th>\n",
       "      <td>546454.0</td>\n",
       "      <td>1999</td>\n",
       "    </tr>\n",
       "    <tr>\n",
       "      <th>9</th>\n",
       "      <td>671794.0</td>\n",
       "      <td>2000</td>\n",
       "    </tr>\n",
       "    <tr>\n",
       "      <th>10</th>\n",
       "      <td>824872.0</td>\n",
       "      <td>2001</td>\n",
       "    </tr>\n",
       "    <tr>\n",
       "      <th>11</th>\n",
       "      <td>1011155.0</td>\n",
       "      <td>2002</td>\n",
       "    </tr>\n",
       "    <tr>\n",
       "      <th>12</th>\n",
       "      <td>1206775.0</td>\n",
       "      <td>2003</td>\n",
       "    </tr>\n",
       "    <tr>\n",
       "      <th>13</th>\n",
       "      <td>1397731.0</td>\n",
       "      <td>2004</td>\n",
       "    </tr>\n",
       "    <tr>\n",
       "      <th>14</th>\n",
       "      <td>1621918.0</td>\n",
       "      <td>2005</td>\n",
       "    </tr>\n",
       "    <tr>\n",
       "      <th>15</th>\n",
       "      <td>1857926.0</td>\n",
       "      <td>2006</td>\n",
       "    </tr>\n",
       "    <tr>\n",
       "      <th>16</th>\n",
       "      <td>2122865.0</td>\n",
       "      <td>2007</td>\n",
       "    </tr>\n",
       "    <tr>\n",
       "      <th>17</th>\n",
       "      <td>2428895.0</td>\n",
       "      <td>2008</td>\n",
       "    </tr>\n",
       "    <tr>\n",
       "      <th>18</th>\n",
       "      <td>2729919.0</td>\n",
       "      <td>2009</td>\n",
       "    </tr>\n",
       "    <tr>\n",
       "      <th>19</th>\n",
       "      <td>3033688.0</td>\n",
       "      <td>2010</td>\n",
       "    </tr>\n",
       "    <tr>\n",
       "      <th>20</th>\n",
       "      <td>3330304.0</td>\n",
       "      <td>2011</td>\n",
       "    </tr>\n",
       "    <tr>\n",
       "      <th>21</th>\n",
       "      <td>3590048.0</td>\n",
       "      <td>2012</td>\n",
       "    </tr>\n",
       "    <tr>\n",
       "      <th>22</th>\n",
       "      <td>3921099.0</td>\n",
       "      <td>2013</td>\n",
       "    </tr>\n",
       "    <tr>\n",
       "      <th>23</th>\n",
       "      <td>4417877.0</td>\n",
       "      <td>2014</td>\n",
       "    </tr>\n",
       "    <tr>\n",
       "      <th>24</th>\n",
       "      <td>4821443.0</td>\n",
       "      <td>2015</td>\n",
       "    </tr>\n",
       "    <tr>\n",
       "      <th>25</th>\n",
       "      <td>5099449.0</td>\n",
       "      <td>2016</td>\n",
       "    </tr>\n",
       "    <tr>\n",
       "      <th>26</th>\n",
       "      <td>3163361.0</td>\n",
       "      <td>2017</td>\n",
       "    </tr>\n",
       "    <tr>\n",
       "      <th>27</th>\n",
       "      <td>480402.0</td>\n",
       "      <td>2018</td>\n",
       "    </tr>\n",
       "    <tr>\n",
       "      <th>28</th>\n",
       "      <td>1037.0</td>\n",
       "      <td>2019</td>\n",
       "    </tr>\n",
       "    <tr>\n",
       "      <th>29</th>\n",
       "      <td>24.0</td>\n",
       "      <td>2020</td>\n",
       "    </tr>\n",
       "    <tr>\n",
       "      <th>30</th>\n",
       "      <td>0.0</td>\n",
       "      <td>2021</td>\n",
       "    </tr>\n",
       "    <tr>\n",
       "      <th>31</th>\n",
       "      <td>0.0</td>\n",
       "      <td>2022</td>\n",
       "    </tr>\n",
       "    <tr>\n",
       "      <th>32</th>\n",
       "      <td>0.0</td>\n",
       "      <td>2023</td>\n",
       "    </tr>\n",
       "  </tbody>\n",
       "</table>\n",
       "</div>"
      ],
      "text/plain": [
       "            n  bins\n",
       "0     56486.0  1991\n",
       "1     96167.0  1992\n",
       "2    134027.0  1993\n",
       "3    180203.0  1994\n",
       "4    228511.0  1995\n",
       "5    282345.0  1996\n",
       "6    364499.0  1997\n",
       "7    454846.0  1998\n",
       "8    546454.0  1999\n",
       "9    671794.0  2000\n",
       "10   824872.0  2001\n",
       "11  1011155.0  2002\n",
       "12  1206775.0  2003\n",
       "13  1397731.0  2004\n",
       "14  1621918.0  2005\n",
       "15  1857926.0  2006\n",
       "16  2122865.0  2007\n",
       "17  2428895.0  2008\n",
       "18  2729919.0  2009\n",
       "19  3033688.0  2010\n",
       "20  3330304.0  2011\n",
       "21  3590048.0  2012\n",
       "22  3921099.0  2013\n",
       "23  4417877.0  2014\n",
       "24  4821443.0  2015\n",
       "25  5099449.0  2016\n",
       "26  3163361.0  2017\n",
       "27   480402.0  2018\n",
       "28     1037.0  2019\n",
       "29       24.0  2020\n",
       "30        0.0  2021\n",
       "31        0.0  2022\n",
       "32        0.0  2023"
      ]
     },
     "execution_count": 59,
     "metadata": {},
     "output_type": "execute_result"
    }
   ],
   "source": [
    "pd.DataFrame({'n':n,'bins':bins[1:]})"
   ]
  },
  {
   "cell_type": "code",
   "execution_count": 35,
   "id": "acc0301c",
   "metadata": {},
   "outputs": [
    {
     "data": {
      "image/png": "[encoded data removed]",
      "text/plain": [
       "<Figure size 432x288 with 1 Axes>"
      ]
     },
     "metadata": {
      "needs_background": "light"
     },
     "output_type": "display_data"
    }
   ],
   "source": [
    "n,bins,patches = plt.hist(med.issue_date.dt.year, bins=np.arange(1995,2025,1))"
   ]
  },
  {
   "cell_type": "code",
   "execution_count": 34,
   "id": "644701cf",
   "metadata": {},
   "outputs": [
    {
     "data": {
      "text/html": [
       "<div>\n",
       "<style scoped>\n",
       "    .dataframe tbody tr th:only-of-type {\n",
       "        vertical-align: middle;\n",
       "    }\n",
       "\n",
       "    .dataframe tbody tr th {\n",
       "        vertical-align: top;\n",
       "    }\n",
       "\n",
       "    .dataframe thead th {\n",
       "        text-align: right;\n",
       "    }\n",
       "</style>\n",
       "<table border=\"1\" class=\"dataframe\">\n",
       "  <thead>\n",
       "    <tr style=\"text-align: right;\">\n",
       "      <th></th>\n",
       "      <th>n</th>\n",
       "      <th>bins</th>\n",
       "    </tr>\n",
       "  </thead>\n",
       "  <tbody>\n",
       "    <tr>\n",
       "      <th>0</th>\n",
       "      <td>324339.0</td>\n",
       "      <td>1996</td>\n",
       "    </tr>\n",
       "    <tr>\n",
       "      <th>1</th>\n",
       "      <td>417878.0</td>\n",
       "      <td>1997</td>\n",
       "    </tr>\n",
       "    <tr>\n",
       "      <th>2</th>\n",
       "      <td>519375.0</td>\n",
       "      <td>1998</td>\n",
       "    </tr>\n",
       "    <tr>\n",
       "      <th>3</th>\n",
       "      <td>624632.0</td>\n",
       "      <td>1999</td>\n",
       "    </tr>\n",
       "    <tr>\n",
       "      <th>4</th>\n",
       "      <td>766914.0</td>\n",
       "      <td>2000</td>\n",
       "    </tr>\n",
       "    <tr>\n",
       "      <th>5</th>\n",
       "      <td>942509.0</td>\n",
       "      <td>2001</td>\n",
       "    </tr>\n",
       "    <tr>\n",
       "      <th>6</th>\n",
       "      <td>1156213.0</td>\n",
       "      <td>2002</td>\n",
       "    </tr>\n",
       "    <tr>\n",
       "      <th>7</th>\n",
       "      <td>1384643.0</td>\n",
       "      <td>2003</td>\n",
       "    </tr>\n",
       "    <tr>\n",
       "      <th>8</th>\n",
       "      <td>1610272.0</td>\n",
       "      <td>2004</td>\n",
       "    </tr>\n",
       "    <tr>\n",
       "      <th>9</th>\n",
       "      <td>1873304.0</td>\n",
       "      <td>2005</td>\n",
       "    </tr>\n",
       "    <tr>\n",
       "      <th>10</th>\n",
       "      <td>2137963.0</td>\n",
       "      <td>2006</td>\n",
       "    </tr>\n",
       "    <tr>\n",
       "      <th>11</th>\n",
       "      <td>2432976.0</td>\n",
       "      <td>2007</td>\n",
       "    </tr>\n",
       "    <tr>\n",
       "      <th>12</th>\n",
       "      <td>2778246.0</td>\n",
       "      <td>2008</td>\n",
       "    </tr>\n",
       "    <tr>\n",
       "      <th>13</th>\n",
       "      <td>3117721.0</td>\n",
       "      <td>2009</td>\n",
       "    </tr>\n",
       "    <tr>\n",
       "      <th>14</th>\n",
       "      <td>3461007.0</td>\n",
       "      <td>2010</td>\n",
       "    </tr>\n",
       "    <tr>\n",
       "      <th>15</th>\n",
       "      <td>3787956.0</td>\n",
       "      <td>2011</td>\n",
       "    </tr>\n",
       "    <tr>\n",
       "      <th>16</th>\n",
       "      <td>4082467.0</td>\n",
       "      <td>2012</td>\n",
       "    </tr>\n",
       "    <tr>\n",
       "      <th>17</th>\n",
       "      <td>4446174.0</td>\n",
       "      <td>2013</td>\n",
       "    </tr>\n",
       "    <tr>\n",
       "      <th>18</th>\n",
       "      <td>4967940.0</td>\n",
       "      <td>2014</td>\n",
       "    </tr>\n",
       "    <tr>\n",
       "      <th>19</th>\n",
       "      <td>5396076.0</td>\n",
       "      <td>2015</td>\n",
       "    </tr>\n",
       "    <tr>\n",
       "      <th>20</th>\n",
       "      <td>5686023.0</td>\n",
       "      <td>2016</td>\n",
       "    </tr>\n",
       "    <tr>\n",
       "      <th>21</th>\n",
       "      <td>3770199.0</td>\n",
       "      <td>2017</td>\n",
       "    </tr>\n",
       "    <tr>\n",
       "      <th>22</th>\n",
       "      <td>1005031.0</td>\n",
       "      <td>2018</td>\n",
       "    </tr>\n",
       "    <tr>\n",
       "      <th>23</th>\n",
       "      <td>3575.0</td>\n",
       "      <td>2019</td>\n",
       "    </tr>\n",
       "    <tr>\n",
       "      <th>24</th>\n",
       "      <td>29.0</td>\n",
       "      <td>2020</td>\n",
       "    </tr>\n",
       "    <tr>\n",
       "      <th>25</th>\n",
       "      <td>0.0</td>\n",
       "      <td>2021</td>\n",
       "    </tr>\n",
       "    <tr>\n",
       "      <th>26</th>\n",
       "      <td>0.0</td>\n",
       "      <td>2022</td>\n",
       "    </tr>\n",
       "    <tr>\n",
       "      <th>27</th>\n",
       "      <td>0.0</td>\n",
       "      <td>2023</td>\n",
       "    </tr>\n",
       "    <tr>\n",
       "      <th>28</th>\n",
       "      <td>0.0</td>\n",
       "      <td>2024</td>\n",
       "    </tr>\n",
       "  </tbody>\n",
       "</table>\n",
       "</div>"
      ],
      "text/plain": [
       "            n  bins\n",
       "0    324339.0  1996\n",
       "1    417878.0  1997\n",
       "2    519375.0  1998\n",
       "3    624632.0  1999\n",
       "4    766914.0  2000\n",
       "5    942509.0  2001\n",
       "6   1156213.0  2002\n",
       "7   1384643.0  2003\n",
       "8   1610272.0  2004\n",
       "9   1873304.0  2005\n",
       "10  2137963.0  2006\n",
       "11  2432976.0  2007\n",
       "12  2778246.0  2008\n",
       "13  3117721.0  2009\n",
       "14  3461007.0  2010\n",
       "15  3787956.0  2011\n",
       "16  4082467.0  2012\n",
       "17  4446174.0  2013\n",
       "18  4967940.0  2014\n",
       "19  5396076.0  2015\n",
       "20  5686023.0  2016\n",
       "21  3770199.0  2017\n",
       "22  1005031.0  2018\n",
       "23     3575.0  2019\n",
       "24       29.0  2020\n",
       "25        0.0  2021\n",
       "26        0.0  2022\n",
       "27        0.0  2023\n",
       "28        0.0  2024"
      ]
     },
     "execution_count": 34,
     "metadata": {},
     "output_type": "execute_result"
    }
   ],
   "source": [
    "pd.DataFrame({'n':n,'bins':bins[1:]})"
   ]
  }
 ],
 "metadata": {
  "kernelspec": {
   "display_name": "Python 3",
   "language": "python",
   "name": "python3"
  },
  "language_info": {
   "codemirror_mode": {
    "name": "ipython",
    "version": 3
   },
   "file_extension": ".py",
   "mimetype": "text/x-python",
   "name": "python",
   "nbconvert_exporter": "python",
   "pygments_lexer": "ipython3",
   "version": "3.7.3"
  }
 },
 "nbformat": 4,
 "nbformat_minor": 5
}
